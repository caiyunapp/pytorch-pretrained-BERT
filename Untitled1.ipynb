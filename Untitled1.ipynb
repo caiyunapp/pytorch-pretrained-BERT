{
 "cells": [
  {
   "cell_type": "code",
   "execution_count": 1,
   "metadata": {},
   "outputs": [],
   "source": [
    "%load_ext autoreload\n",
    "%autoreload 2\n",
    "\n",
    "from IPython.core.interactiveshell import InteractiveShell\n",
    "InteractiveShell.ast_node_interactivity = 'all'"
   ]
  },
  {
   "cell_type": "code",
   "execution_count": 2,
   "metadata": {},
   "outputs": [],
   "source": [
    "import os\n",
    "import json\n",
    "import itertools\n",
    "from itertools import product, permutations\n",
    "from random import sample"
   ]
  },
  {
   "cell_type": "code",
   "execution_count": 3,
   "metadata": {},
   "outputs": [],
   "source": [
    "import torch\n",
    "from torch.utils.data import DataLoader, RandomSampler, SequentialSampler"
   ]
  },
  {
   "cell_type": "code",
   "execution_count": 4,
   "metadata": {},
   "outputs": [
    {
     "name": "stdout",
     "output_type": "stream",
     "text": [
      "Warning:  apex was installed without --cpp_ext.  Falling back to Python flatten and unflatten.\n",
      "Warning:  apex was installed without --cuda_ext. Fused syncbn kernels will be unavailable.  Python fallbacks will be used instead.\n",
      "Warning:  apex was installed without --cuda_ext.  FusedAdam will be unavailable.\n",
      "Warning:  apex was installed without --cuda_ext.  FusedLayerNorm will be unavailable.\n",
      "Better speed can be achieved with apex installed from https://www.github.com/nvidia/apex.\n"
     ]
    }
   ],
   "source": [
    "from pytorch_pretrained_bert.tokenization import BertTokenizer\n",
    "from pytorch_pretrained_bert.modeling import BertForPreTraining, BertForMaskedLM, BertConfig\n",
    "from pytorch_pretrained_bert.optimization import BertAdam\n",
    "from run_child_finetuning import *"
   ]
  },
  {
   "cell_type": "code",
   "execution_count": 5,
   "metadata": {},
   "outputs": [
    {
     "name": "stderr",
     "output_type": "stream",
     "text": [
      "06/09/2019 14:55:34 - INFO - pytorch_pretrained_bert.tokenization -   loading vocabulary file /nas/pretrain-bert/pretrain-pytorch/bert-base-uncased-vocab.txt\n"
     ]
    }
   ],
   "source": [
    "BERT_DIR = '/nas/pretrain-bert/pretrain-pytorch/bert-base-uncased'\n",
    "tokenizer = BertTokenizer.from_pretrained('/nas/pretrain-bert/pretrain-pytorch/bert-base-uncased-vocab.txt')"
   ]
  },
  {
   "cell_type": "code",
   "execution_count": 6,
   "metadata": {},
   "outputs": [],
   "source": [
    "def assert_in_bert_vocab(tokens):\n",
    "    for token in tokens:\n",
    "        if isinstance(token, str):  # entities\n",
    "            assert token.lower() in tokenizer.vocab, token + '->' + str(tokenizer.tokenize(token))\n",
    "        elif isinstance(token, tuple):  # relations\n",
    "            assert len(token) == 2, str(token)\n",
    "            for rel in token:\n",
    "                rel = rel.split('..')[0]\n",
    "                assert rel in tokenizer.vocab, rel + '->' + str(tokenizer.tokenize(rel))"
   ]
  },
  {
   "cell_type": "code",
   "execution_count": 7,
   "metadata": {},
   "outputs": [
    {
     "data": {
      "text/plain": [
       "19"
      ]
     },
     "execution_count": 7,
     "metadata": {},
     "output_type": "execute_result"
    }
   ],
   "source": [
    "fruits = ['apple', 'banana', 'pear', 'orange', 'peach', 'berry', 'plum', 'pinapple', 'melon', 'cherry', 'grape', 'lemon',\n",
    "          'papaya', 'durian', 'kiwi', 'mongo', 'date', 'jujube', 'watermelon']\n",
    "len(fruits)\n",
    "# http://www.manythings.org/vocabulary/lists/e/words.php?f=fruit"
   ]
  },
  {
   "cell_type": "code",
   "execution_count": 8,
   "metadata": {},
   "outputs": [
    {
     "data": {
      "text/plain": [
       "16"
      ]
     },
     "execution_count": 8,
     "metadata": {},
     "output_type": "execute_result"
    }
   ],
   "source": [
    "animals = ['dog', 'cat', 'pig', 'chicken', 'hen', 'cock', 'duck', 'goose', 'monkey', 'tiger', 'bird', 'bear', 'lion', 'bee', 'ant', 'elephant']\n",
    "len(animals)\n",
    "# see more at http://www.manythings.org/vocabulary/lists/a/words.php?f=animals_1\n",
    "# http://www.manythings.org/vocabulary/lists/a/\n",
    "# especially http://www.manythings.org/vocabulary/lists/a/words.php?f=classroom_1  things in classroom"
   ]
  },
  {
   "cell_type": "code",
   "execution_count": 9,
   "metadata": {},
   "outputs": [
    {
     "data": {
      "text/plain": [
       "3"
      ]
     },
     "execution_count": 9,
     "metadata": {},
     "output_type": "execute_result"
    },
    {
     "data": {
      "text/plain": [
       "3"
      ]
     },
     "execution_count": 9,
     "metadata": {},
     "output_type": "execute_result"
    }
   ],
   "source": [
    "male_names = ['James', 'John', 'Robert', ]#'Michael', 'David', 'Paul', 'Jeff', 'Daniel', 'Charles', 'Thomas']\n",
    "female_names = ['Mary', 'Linda', 'Jennifer', ]#'Maria', 'Susan', 'Lisa', 'Sandra', 'Barbara', 'Patricia', 'Elizabeth']\n",
    "len(male_names)\n",
    "len(female_names)\n",
    "people_names = (male_names, female_names)\n",
    "assert_in_bert_vocab(male_names)\n",
    "assert_in_bert_vocab(female_names)"
   ]
  },
  {
   "cell_type": "code",
   "execution_count": 10,
   "metadata": {},
   "outputs": [],
   "source": [
    "spatial_relations = (\n",
    "    ('above', 'below'), \n",
    "    ('in front of/in the front', 'behind/in the back'), \n",
    "    ('on the left..side of', 'on the right..side of')\n",
    ")\n",
    "people_adj_relations = (\n",
    "    ('taller..than', 'shorter..than'), \n",
    "#     ('thinner..than', 'fatter..than'),   # fatter not in BERT vocab\n",
    "    ('younger..than', 'older..than'), \n",
    "#     ('stronger..than', 'weaker..than'), \n",
    "#     ('faster..than', 'slower..than'),\n",
    "#     ('richer..than', 'poorer..than')\n",
    ")\n",
    "animal_adj_relations = (\n",
    "    ('thinner..than', 'fatter..than'), \n",
    "    ('younger..than', 'older..than'), \n",
    "    ('stronger..than', 'weaker..than'), \n",
    "    ('faster..than', 'slower..than')\n",
    ")\n",
    "object_adj_relations = (\n",
    "    ('bigger..than', 'smaller..than'), \n",
    "    ('heavier..than', 'lighter..than'), \n",
    "    ('better..than', 'worse..than')\n",
    ")\n",
    "assert_in_bert_vocab(people_adj_relations)"
   ]
  },
  {
   "cell_type": "code",
   "execution_count": 11,
   "metadata": {},
   "outputs": [],
   "source": [
    "rel2entypes = {\n",
    "#     spatial_relations: [fruits, animals, people_names],\n",
    "    people_adj_relations: [people_names],\n",
    "#     animal_adj_relations: [animals],\n",
    "#     object_adj_relations: [fruits, animals]\n",
    "}"
   ]
  },
  {
   "cell_type": "code",
   "execution_count": 12,
   "metadata": {},
   "outputs": [],
   "source": [
    "twoent_A_template = 'is {dt} {ent0} {rel} {dt} {ent1}'\n",
    "twoent_B_template = '{dt} {ent} is {pred}'\n",
    "twoent_template = '\"{A}?\" \"{conj} {B}.\"'"
   ]
  },
  {
   "cell_type": "code",
   "execution_count": 13,
   "metadata": {},
   "outputs": [],
   "source": [
    "def reverse(l):\n",
    "    return list(reversed(l)) if isinstance(l, list) else tuple(reversed(l))"
   ]
  },
  {
   "cell_type": "code",
   "execution_count": 14,
   "metadata": {},
   "outputs": [],
   "source": [
    "def mask(ent_str):\n",
    "    tokens = ent_str.strip().split()\n",
    "    if len(tokens) == 1:\n",
    "        return '[%s]' % tokens[0]\n",
    "    elif len(tokens) == 2:\n",
    "        assert tokens[0] == 'the', ent_str\n",
    "        return '%s [%s]' % (tokens[0], tokens[1])\n",
    "    else:\n",
    "        assert False, ent_str"
   ]
  },
  {
   "cell_type": "code",
   "execution_count": 15,
   "metadata": {},
   "outputs": [],
   "source": [
    "def get_conj(join_type, A, B):\n",
    "    if join_type == 'no':\n",
    "        return 'no,'\n",
    "    return 'yes,'\n",
    "    assert join_type == 'yes'\n",
    "    subB = B.split('is')[0].split()[-1]\n",
    "    w0, w1, w2 = A.split()[: 3]\n",
    "    assert w0 == 'Is'\n",
    "    subA = w1 if w1 != 'the' else w2\n",
    "    if subA == subB and 'not' not in B:  # B is repeating A\n",
    "        return 'Yes,'\n",
    "    else:\n",
    "        return 'Yes, in other words,'"
   ]
  },
  {
   "cell_type": "code",
   "execution_count": 134,
   "metadata": {},
   "outputs": [],
   "source": [
    "def make_sentences(A_template, B_template, join_template,\n",
    "                   index=-1, orig_sentence='', entities=[\"John\", \"Mary\"], entity_substitutes=None, determiner=\"\", \n",
    "                   relations=[],\n",
    "                   packed_relations=[\"rel/~rel\", \"rev_rel/~rev_rel\"], packed_relation_substitutes=None, relation_suffix=\"\",\n",
    "                   packed_predicates=[\"pred0/~pred0\", \"pred1/~pred1\"], predicate_substitutes=None,\n",
    "                   predicate_dichotomy=True, reverse_causal=False):\n",
    "#     assert entities[0].lower() in tokenizer.vocab , entities[0]\n",
    "#     assert entities[1].lower() in tokenizer.vocab , entities[1]\n",
    "    determiner = 'the' if entities[0].islower() else ''\n",
    "    relations, predicates = ([r.replace('..', ' ') for r in relations], [r.split('..')[0] for r in relations]) \\\n",
    "        if '..' in relations[0] else ([r.split('/')[0] for r in relations], [r.split('/')[-1] for r in relations])\n",
    "    neg_predicates = ['not ' + p for p in predicates]\n",
    "    As = [A_template.format(dt=determiner, ent0=ent0, ent1=ent1, rel=rel, rel_suffix=relation_suffix) \n",
    "          for ent0, ent1, rel in [entities + relations[:1], reverse(entities) + reverse(relations)[:1]]]\n",
    "    negAs = [A_template.format(dt=determiner, ent0=ent0, ent1=ent1, rel=rel, rel_suffix=relation_suffix) \n",
    "             for ent0, ent1, rel in [entities + reverse(relations)[:1], reverse(entities) + relations[:1]]]\n",
    "    \n",
    "    Bs = [B_template.format(dt=determiner, ent=mask(ent), pred=pred) for ent, pred in zip(entities, predicates)]\n",
    "    negBs = [B_template.format(dt=determiner, ent=mask(ent), pred=pred) for ent, pred in zip(entities, neg_predicates)]\n",
    "    if predicate_dichotomy:\n",
    "        Bs += [B_template.format(dt=determiner, ent=mask(ent), pred=pred) for ent, pred in zip(entities, reversed(neg_predicates))]\n",
    "        negBs += [B_template.format(dt=determiner, ent=mask(ent), pred=pred) for ent, pred in zip(entities, reversed(predicates))]\n",
    "    \n",
    "    def form_sentences(sentence_template, join_type, As, Bs):\n",
    "        return [\" \".join(sentence_template.format(A=A, B=B, conj=get_conj(join_type, A, B)).split()) for A, B in itertools.product(As, Bs)]\n",
    "    \n",
    "    yes_sentences = []\n",
    "    for A, B in [(As, Bs), (negAs, negBs)]:\n",
    "        yes_sentences += form_sentences(join_template, 'yes', A, B)\n",
    "#     yes_sentences = list(itertools.chain.from_iterable([form_sentences(join_template, 'yes', A, B) for A, B in [(As, Bs), (negAs, negBs)]]))\n",
    "\n",
    "    no_sentences = []\n",
    "    for A, B in [(As, negBs), (negAs, Bs)]:\n",
    "        no_sentences += form_sentences(join_template, 'no', A, B)\n",
    "        \n",
    "    return yes_sentences + no_sentences\n",
    "    \n",
    "# make_sentences(\n",
    "#     twoent_A_template, twoent_B_template, twoent_template, entities=['apple', 'banana'], determiner='', relations=['taller..than', 'shorter..than'])"
   ]
  },
  {
   "cell_type": "code",
   "execution_count": 180,
   "metadata": {},
   "outputs": [
    {
     "ename": "NameError",
     "evalue": "name 'make_sentences' is not defined",
     "output_type": "error",
     "traceback": [
      "\u001b[0;31m---------------------------------------------------------------------------\u001b[0m",
      "\u001b[0;31mNameError\u001b[0m                                 Traceback (most recent call last)",
      "\u001b[0;32m<ipython-input-180-3907b2fad2d0>\u001b[0m in \u001b[0;36m<module>\u001b[0;34m()\u001b[0m\n\u001b[1;32m     13\u001b[0m \u001b[0;31m#         yes_sent, no_sent = make_sentences(twoent_A_template, twoent_B_template, twoent_template, entities=list(ent_pair), relations=rel)\u001b[0m\u001b[0;34m\u001b[0m\u001b[0;34m\u001b[0m\u001b[0m\n\u001b[1;32m     14\u001b[0m \u001b[0;31m#         sentences += (yes_sent + no_sent)\u001b[0m\u001b[0;34m\u001b[0m\u001b[0;34m\u001b[0m\u001b[0m\n\u001b[0;32m---> 15\u001b[0;31m         \u001b[0msentences\u001b[0m \u001b[0;34m+=\u001b[0m  \u001b[0mmake_sentences\u001b[0m\u001b[0;34m(\u001b[0m\u001b[0mtwoent_A_template\u001b[0m\u001b[0;34m,\u001b[0m \u001b[0mtwoent_B_template\u001b[0m\u001b[0;34m,\u001b[0m \u001b[0mtwoent_template\u001b[0m\u001b[0;34m,\u001b[0m \u001b[0mentities\u001b[0m\u001b[0;34m=\u001b[0m\u001b[0mlist\u001b[0m\u001b[0;34m(\u001b[0m\u001b[0ment_pair\u001b[0m\u001b[0;34m)\u001b[0m\u001b[0;34m,\u001b[0m \u001b[0mrelations\u001b[0m\u001b[0;34m=\u001b[0m\u001b[0mrel\u001b[0m\u001b[0;34m)\u001b[0m\u001b[0;34m\u001b[0m\u001b[0m\n\u001b[0m\u001b[1;32m     16\u001b[0m     \u001b[0msample\u001b[0m\u001b[0;34m(\u001b[0m\u001b[0msentences\u001b[0m\u001b[0;34m,\u001b[0m \u001b[0;36m20\u001b[0m\u001b[0;34m)\u001b[0m\u001b[0;34m\u001b[0m\u001b[0m\n\u001b[1;32m     17\u001b[0m     \u001b[0msentence_groups\u001b[0m\u001b[0;34m.\u001b[0m\u001b[0mappend\u001b[0m\u001b[0;34m(\u001b[0m\u001b[0msentences\u001b[0m\u001b[0;34m)\u001b[0m\u001b[0;34m\u001b[0m\u001b[0m\n",
      "\u001b[0;31mNameError\u001b[0m: name 'make_sentences' is not defined"
     ]
    }
   ],
   "source": [
    "sentence_groups = []\n",
    "for relations, entity_types in rel2entypes.items():\n",
    "    sentences = []\n",
    "    ent_pairs = []\n",
    "    for entities in entity_types:\n",
    "        if isinstance(entities, list):\n",
    "            ent_pairs += permutations(entities, 2)\n",
    "        else:\n",
    "            assert isinstance(entities, tuple) and len(entities) == 2  # people_names\n",
    "            ent_pairs += product(entities[0], entities[1])\n",
    "            ent_pairs += product(entities[1], entities[0])\n",
    "    for (rel, ent_pair) in product(relations, ent_pairs):\n",
    "#         yes_sent, no_sent = make_sentences(twoent_A_template, twoent_B_template, twoent_template, entities=list(ent_pair), relations=rel)\n",
    "#         sentences += (yes_sent + no_sent)\n",
    "        sentences +=  make_sentences(twoent_A_template, twoent_B_template, twoent_template, entities=list(ent_pair), relations=rel)\n",
    "    sample(sentences, 20)\n",
    "    sentence_groups.append(sentences)"
   ]
  },
  {
   "cell_type": "code",
   "execution_count": 115,
   "metadata": {},
   "outputs": [
    {
     "data": {
      "text/plain": [
       "4"
      ]
     },
     "execution_count": 115,
     "metadata": {},
     "output_type": "execute_result"
    },
    {
     "data": {
      "text/plain": [
       "[78432, 38400, 32768, 59232]"
      ]
     },
     "execution_count": 115,
     "metadata": {},
     "output_type": "execute_result"
    }
   ],
   "source": [
    "len(sentence_groups)\n",
    "[len(sg) for sg in sentence_groups]"
   ]
  },
  {
   "cell_type": "code",
   "execution_count": 16,
   "metadata": {},
   "outputs": [],
   "source": [
    "def comparative2superlative(comparative_form, structured=False):\n",
    "    assert comparative_form.endswith('er'), comparative_form\n",
    "    superlative_form = 'the ' + comparative_form[:-2] + 'est' \\\n",
    "        if not structured else 'the ' + comparative_form + ' st'\n",
    "    return superlative_form"
   ]
  },
  {
   "cell_type": "code",
   "execution_count": 17,
   "metadata": {},
   "outputs": [],
   "source": [
    "def make_relational_atoms(relational_template, entities, relations):\n",
    "    neg_relations = [\"isn't \" + r for r in relations]\n",
    "    relations = [\"is \" + r for r in relations]\n",
    "    atoms = [relational_template.format(ent0=ent0, ent1=ent1, rel=rel) \n",
    "             for ent0, ent1, rel in [entities + relations[:1], reverse(entities) + reverse(relations)[:1]]]\n",
    "    atoms += [relational_template.format(ent0=ent0, ent1=ent1, rel=rel) \n",
    "              for ent0, ent1, rel in [entities + reverse(neg_relations)[:1], reverse(entities) + neg_relations[:1]]]\n",
    "    return atoms"
   ]
  },
  {
   "cell_type": "code",
   "execution_count": 44,
   "metadata": {},
   "outputs": [
    {
     "data": {
      "text/plain": [
       "['John is taller than Mary . Mary is taller than Susan . ||| is Susan shorter than John ? [yes] .',\n",
       " 'John is taller than Mary . Susan is shorter than Mary . ||| is Susan shorter than John ? [yes] .',\n",
       " \"Mary isn't taller than John . Mary is taller than Susan . ||| is Susan shorter than John ? [yes] .\",\n",
       " \"Susan isn't taller than Mary . John is taller than Mary . ||| who is the tallest ? [John] .\",\n",
       " \"John is taller than Mary . Susan isn't taller than Mary . ||| is John shorter than Susan ? [no] .\",\n",
       " \"Mary is shorter than John . Mary isn't shorter than Susan . ||| is Susan shorter than John ? [yes] .\",\n",
       " \"John isn't shorter than Mary . Mary is taller than Susan . ||| is Susan taller than John ? [no] .\",\n",
       " \"Mary is taller than Susan . John isn't shorter than Mary . ||| is Susan taller than John ? [no] .\",\n",
       " \"Mary is shorter than John . Susan isn't taller than Mary . ||| is Susan taller than John ? [no] .\",\n",
       " \"Mary is shorter than John . Susan isn't taller than Mary . ||| who is the shortest ? [Susan] .\",\n",
       " 'John is taller than Mary . Susan is shorter than Mary . ||| is John taller than Susan ? [yes] .',\n",
       " 'Mary is taller than Susan . John is taller than Mary . ||| is Susan shorter than John ? [yes] .',\n",
       " \"Mary isn't shorter than Susan . John isn't shorter than Mary . ||| who is the tallest ? [John] .\",\n",
       " \"Susan is shorter than Mary . John isn't shorter than Mary . ||| is John taller than Susan ? [yes] .\",\n",
       " \"Mary isn't taller than John . Mary is taller than Susan . ||| is John shorter than Susan ? [no] .\",\n",
       " \"John isn't shorter than Mary . Susan is shorter than Mary . ||| is Susan taller than John ? [no] .\",\n",
       " \"Mary isn't shorter than Susan . Mary is shorter than John . ||| is Susan taller than John ? [no] .\",\n",
       " \"Mary is shorter than John . Susan isn't taller than Mary . ||| who is the tallest ? [John] .\",\n",
       " \"Susan isn't taller than Mary . Mary isn't taller than John . ||| is John taller than Susan ? [yes] .\",\n",
       " 'John is taller than Mary . Susan is shorter than Mary . ||| is Susan taller than John ? [no] .']"
      ]
     },
     "execution_count": 44,
     "metadata": {},
     "output_type": "execute_result"
    },
    {
     "data": {
      "text/plain": [
       "['John is taller than Mary . Mary is taller than Susan . ||| who is the tallest ? [John] .',\n",
       " 'John is taller than Mary . Mary is taller than Susan . ||| who is the shortest ? [Susan] .',\n",
       " 'John is taller than Mary . Mary is taller than Susan . ||| is John taller than Susan ? [yes] .',\n",
       " 'John is taller than Mary . Mary is taller than Susan . ||| is John shorter than Susan ? [no] .',\n",
       " 'John is taller than Mary . Mary is taller than Susan . ||| is Susan shorter than John ? [yes] .',\n",
       " 'John is taller than Mary . Mary is taller than Susan . ||| is Susan taller than John ? [no] .',\n",
       " 'John is taller than Mary . Susan is shorter than Mary . ||| who is the tallest ? [John] .',\n",
       " 'John is taller than Mary . Susan is shorter than Mary . ||| who is the shortest ? [Susan] .',\n",
       " 'John is taller than Mary . Susan is shorter than Mary . ||| is John taller than Susan ? [yes] .',\n",
       " 'John is taller than Mary . Susan is shorter than Mary . ||| is John shorter than Susan ? [no] .',\n",
       " 'John is taller than Mary . Susan is shorter than Mary . ||| is Susan shorter than John ? [yes] .',\n",
       " 'John is taller than Mary . Susan is shorter than Mary . ||| is Susan taller than John ? [no] .',\n",
       " \"John is taller than Mary . Mary isn't shorter than Susan . ||| who is the tallest ? [John] .\",\n",
       " \"John is taller than Mary . Mary isn't shorter than Susan . ||| who is the shortest ? [Susan] .\",\n",
       " \"John is taller than Mary . Mary isn't shorter than Susan . ||| is John taller than Susan ? [yes] .\",\n",
       " \"John is taller than Mary . Mary isn't shorter than Susan . ||| is John shorter than Susan ? [no] .\",\n",
       " \"John is taller than Mary . Mary isn't shorter than Susan . ||| is Susan shorter than John ? [yes] .\",\n",
       " \"John is taller than Mary . Mary isn't shorter than Susan . ||| is Susan taller than John ? [no] .\",\n",
       " \"John is taller than Mary . Susan isn't taller than Mary . ||| who is the tallest ? [John] .\",\n",
       " \"John is taller than Mary . Susan isn't taller than Mary . ||| who is the shortest ? [Susan] .\",\n",
       " \"John is taller than Mary . Susan isn't taller than Mary . ||| is John taller than Susan ? [yes] .\",\n",
       " \"John is taller than Mary . Susan isn't taller than Mary . ||| is John shorter than Susan ? [no] .\",\n",
       " \"John is taller than Mary . Susan isn't taller than Mary . ||| is Susan shorter than John ? [yes] .\",\n",
       " \"John is taller than Mary . Susan isn't taller than Mary . ||| is Susan taller than John ? [no] .\",\n",
       " 'Mary is shorter than John . Mary is taller than Susan . ||| who is the tallest ? [John] .',\n",
       " 'Mary is shorter than John . Mary is taller than Susan . ||| who is the shortest ? [Susan] .',\n",
       " 'Mary is shorter than John . Mary is taller than Susan . ||| is John taller than Susan ? [yes] .',\n",
       " 'Mary is shorter than John . Mary is taller than Susan . ||| is John shorter than Susan ? [no] .',\n",
       " 'Mary is shorter than John . Mary is taller than Susan . ||| is Susan shorter than John ? [yes] .',\n",
       " 'Mary is shorter than John . Mary is taller than Susan . ||| is Susan taller than John ? [no] .',\n",
       " 'Mary is shorter than John . Susan is shorter than Mary . ||| who is the tallest ? [John] .',\n",
       " 'Mary is shorter than John . Susan is shorter than Mary . ||| who is the shortest ? [Susan] .',\n",
       " 'Mary is shorter than John . Susan is shorter than Mary . ||| is John taller than Susan ? [yes] .',\n",
       " 'Mary is shorter than John . Susan is shorter than Mary . ||| is John shorter than Susan ? [no] .',\n",
       " 'Mary is shorter than John . Susan is shorter than Mary . ||| is Susan shorter than John ? [yes] .',\n",
       " 'Mary is shorter than John . Susan is shorter than Mary . ||| is Susan taller than John ? [no] .',\n",
       " \"Mary is shorter than John . Mary isn't shorter than Susan . ||| who is the tallest ? [John] .\",\n",
       " \"Mary is shorter than John . Mary isn't shorter than Susan . ||| who is the shortest ? [Susan] .\",\n",
       " \"Mary is shorter than John . Mary isn't shorter than Susan . ||| is John taller than Susan ? [yes] .\",\n",
       " \"Mary is shorter than John . Mary isn't shorter than Susan . ||| is John shorter than Susan ? [no] .\",\n",
       " \"Mary is shorter than John . Mary isn't shorter than Susan . ||| is Susan shorter than John ? [yes] .\",\n",
       " \"Mary is shorter than John . Mary isn't shorter than Susan . ||| is Susan taller than John ? [no] .\",\n",
       " \"Mary is shorter than John . Susan isn't taller than Mary . ||| who is the tallest ? [John] .\",\n",
       " \"Mary is shorter than John . Susan isn't taller than Mary . ||| who is the shortest ? [Susan] .\",\n",
       " \"Mary is shorter than John . Susan isn't taller than Mary . ||| is John taller than Susan ? [yes] .\",\n",
       " \"Mary is shorter than John . Susan isn't taller than Mary . ||| is John shorter than Susan ? [no] .\",\n",
       " \"Mary is shorter than John . Susan isn't taller than Mary . ||| is Susan shorter than John ? [yes] .\",\n",
       " \"Mary is shorter than John . Susan isn't taller than Mary . ||| is Susan taller than John ? [no] .\",\n",
       " \"John isn't shorter than Mary . Mary is taller than Susan . ||| who is the tallest ? [John] .\",\n",
       " \"John isn't shorter than Mary . Mary is taller than Susan . ||| who is the shortest ? [Susan] .\",\n",
       " \"John isn't shorter than Mary . Mary is taller than Susan . ||| is John taller than Susan ? [yes] .\",\n",
       " \"John isn't shorter than Mary . Mary is taller than Susan . ||| is John shorter than Susan ? [no] .\",\n",
       " \"John isn't shorter than Mary . Mary is taller than Susan . ||| is Susan shorter than John ? [yes] .\",\n",
       " \"John isn't shorter than Mary . Mary is taller than Susan . ||| is Susan taller than John ? [no] .\",\n",
       " \"John isn't shorter than Mary . Susan is shorter than Mary . ||| who is the tallest ? [John] .\",\n",
       " \"John isn't shorter than Mary . Susan is shorter than Mary . ||| who is the shortest ? [Susan] .\",\n",
       " \"John isn't shorter than Mary . Susan is shorter than Mary . ||| is John taller than Susan ? [yes] .\",\n",
       " \"John isn't shorter than Mary . Susan is shorter than Mary . ||| is John shorter than Susan ? [no] .\",\n",
       " \"John isn't shorter than Mary . Susan is shorter than Mary . ||| is Susan shorter than John ? [yes] .\",\n",
       " \"John isn't shorter than Mary . Susan is shorter than Mary . ||| is Susan taller than John ? [no] .\",\n",
       " \"John isn't shorter than Mary . Mary isn't shorter than Susan . ||| who is the tallest ? [John] .\",\n",
       " \"John isn't shorter than Mary . Mary isn't shorter than Susan . ||| who is the shortest ? [Susan] .\",\n",
       " \"John isn't shorter than Mary . Mary isn't shorter than Susan . ||| is John taller than Susan ? [yes] .\",\n",
       " \"John isn't shorter than Mary . Mary isn't shorter than Susan . ||| is John shorter than Susan ? [no] .\",\n",
       " \"John isn't shorter than Mary . Mary isn't shorter than Susan . ||| is Susan shorter than John ? [yes] .\",\n",
       " \"John isn't shorter than Mary . Mary isn't shorter than Susan . ||| is Susan taller than John ? [no] .\",\n",
       " \"John isn't shorter than Mary . Susan isn't taller than Mary . ||| who is the tallest ? [John] .\",\n",
       " \"John isn't shorter than Mary . Susan isn't taller than Mary . ||| who is the shortest ? [Susan] .\",\n",
       " \"John isn't shorter than Mary . Susan isn't taller than Mary . ||| is John taller than Susan ? [yes] .\",\n",
       " \"John isn't shorter than Mary . Susan isn't taller than Mary . ||| is John shorter than Susan ? [no] .\",\n",
       " \"John isn't shorter than Mary . Susan isn't taller than Mary . ||| is Susan shorter than John ? [yes] .\",\n",
       " \"John isn't shorter than Mary . Susan isn't taller than Mary . ||| is Susan taller than John ? [no] .\",\n",
       " \"Mary isn't taller than John . Mary is taller than Susan . ||| who is the tallest ? [John] .\",\n",
       " \"Mary isn't taller than John . Mary is taller than Susan . ||| who is the shortest ? [Susan] .\",\n",
       " \"Mary isn't taller than John . Mary is taller than Susan . ||| is John taller than Susan ? [yes] .\",\n",
       " \"Mary isn't taller than John . Mary is taller than Susan . ||| is John shorter than Susan ? [no] .\",\n",
       " \"Mary isn't taller than John . Mary is taller than Susan . ||| is Susan shorter than John ? [yes] .\",\n",
       " \"Mary isn't taller than John . Mary is taller than Susan . ||| is Susan taller than John ? [no] .\",\n",
       " \"Mary isn't taller than John . Susan is shorter than Mary . ||| who is the tallest ? [John] .\",\n",
       " \"Mary isn't taller than John . Susan is shorter than Mary . ||| who is the shortest ? [Susan] .\",\n",
       " \"Mary isn't taller than John . Susan is shorter than Mary . ||| is John taller than Susan ? [yes] .\",\n",
       " \"Mary isn't taller than John . Susan is shorter than Mary . ||| is John shorter than Susan ? [no] .\",\n",
       " \"Mary isn't taller than John . Susan is shorter than Mary . ||| is Susan shorter than John ? [yes] .\",\n",
       " \"Mary isn't taller than John . Susan is shorter than Mary . ||| is Susan taller than John ? [no] .\",\n",
       " \"Mary isn't taller than John . Mary isn't shorter than Susan . ||| who is the tallest ? [John] .\",\n",
       " \"Mary isn't taller than John . Mary isn't shorter than Susan . ||| who is the shortest ? [Susan] .\",\n",
       " \"Mary isn't taller than John . Mary isn't shorter than Susan . ||| is John taller than Susan ? [yes] .\",\n",
       " \"Mary isn't taller than John . Mary isn't shorter than Susan . ||| is John shorter than Susan ? [no] .\",\n",
       " \"Mary isn't taller than John . Mary isn't shorter than Susan . ||| is Susan shorter than John ? [yes] .\",\n",
       " \"Mary isn't taller than John . Mary isn't shorter than Susan . ||| is Susan taller than John ? [no] .\",\n",
       " \"Mary isn't taller than John . Susan isn't taller than Mary . ||| who is the tallest ? [John] .\",\n",
       " \"Mary isn't taller than John . Susan isn't taller than Mary . ||| who is the shortest ? [Susan] .\",\n",
       " \"Mary isn't taller than John . Susan isn't taller than Mary . ||| is John taller than Susan ? [yes] .\",\n",
       " \"Mary isn't taller than John . Susan isn't taller than Mary . ||| is John shorter than Susan ? [no] .\",\n",
       " \"Mary isn't taller than John . Susan isn't taller than Mary . ||| is Susan shorter than John ? [yes] .\",\n",
       " \"Mary isn't taller than John . Susan isn't taller than Mary . ||| is Susan taller than John ? [no] .\",\n",
       " 'Mary is taller than Susan . John is taller than Mary . ||| who is the tallest ? [John] .',\n",
       " 'Mary is taller than Susan . John is taller than Mary . ||| who is the shortest ? [Susan] .',\n",
       " 'Mary is taller than Susan . John is taller than Mary . ||| is John taller than Susan ? [yes] .',\n",
       " 'Mary is taller than Susan . John is taller than Mary . ||| is John shorter than Susan ? [no] .',\n",
       " 'Mary is taller than Susan . John is taller than Mary . ||| is Susan shorter than John ? [yes] .',\n",
       " 'Mary is taller than Susan . John is taller than Mary . ||| is Susan taller than John ? [no] .',\n",
       " 'Mary is taller than Susan . Mary is shorter than John . ||| who is the tallest ? [John] .',\n",
       " 'Mary is taller than Susan . Mary is shorter than John . ||| who is the shortest ? [Susan] .',\n",
       " 'Mary is taller than Susan . Mary is shorter than John . ||| is John taller than Susan ? [yes] .',\n",
       " 'Mary is taller than Susan . Mary is shorter than John . ||| is John shorter than Susan ? [no] .',\n",
       " 'Mary is taller than Susan . Mary is shorter than John . ||| is Susan shorter than John ? [yes] .',\n",
       " 'Mary is taller than Susan . Mary is shorter than John . ||| is Susan taller than John ? [no] .',\n",
       " \"Mary is taller than Susan . John isn't shorter than Mary . ||| who is the tallest ? [John] .\",\n",
       " \"Mary is taller than Susan . John isn't shorter than Mary . ||| who is the shortest ? [Susan] .\",\n",
       " \"Mary is taller than Susan . John isn't shorter than Mary . ||| is John taller than Susan ? [yes] .\",\n",
       " \"Mary is taller than Susan . John isn't shorter than Mary . ||| is John shorter than Susan ? [no] .\",\n",
       " \"Mary is taller than Susan . John isn't shorter than Mary . ||| is Susan shorter than John ? [yes] .\",\n",
       " \"Mary is taller than Susan . John isn't shorter than Mary . ||| is Susan taller than John ? [no] .\",\n",
       " \"Mary is taller than Susan . Mary isn't taller than John . ||| who is the tallest ? [John] .\",\n",
       " \"Mary is taller than Susan . Mary isn't taller than John . ||| who is the shortest ? [Susan] .\",\n",
       " \"Mary is taller than Susan . Mary isn't taller than John . ||| is John taller than Susan ? [yes] .\",\n",
       " \"Mary is taller than Susan . Mary isn't taller than John . ||| is John shorter than Susan ? [no] .\",\n",
       " \"Mary is taller than Susan . Mary isn't taller than John . ||| is Susan shorter than John ? [yes] .\",\n",
       " \"Mary is taller than Susan . Mary isn't taller than John . ||| is Susan taller than John ? [no] .\",\n",
       " 'Susan is shorter than Mary . John is taller than Mary . ||| who is the tallest ? [John] .',\n",
       " 'Susan is shorter than Mary . John is taller than Mary . ||| who is the shortest ? [Susan] .',\n",
       " 'Susan is shorter than Mary . John is taller than Mary . ||| is John taller than Susan ? [yes] .',\n",
       " 'Susan is shorter than Mary . John is taller than Mary . ||| is John shorter than Susan ? [no] .',\n",
       " 'Susan is shorter than Mary . John is taller than Mary . ||| is Susan shorter than John ? [yes] .',\n",
       " 'Susan is shorter than Mary . John is taller than Mary . ||| is Susan taller than John ? [no] .',\n",
       " 'Susan is shorter than Mary . Mary is shorter than John . ||| who is the tallest ? [John] .',\n",
       " 'Susan is shorter than Mary . Mary is shorter than John . ||| who is the shortest ? [Susan] .',\n",
       " 'Susan is shorter than Mary . Mary is shorter than John . ||| is John taller than Susan ? [yes] .',\n",
       " 'Susan is shorter than Mary . Mary is shorter than John . ||| is John shorter than Susan ? [no] .',\n",
       " 'Susan is shorter than Mary . Mary is shorter than John . ||| is Susan shorter than John ? [yes] .',\n",
       " 'Susan is shorter than Mary . Mary is shorter than John . ||| is Susan taller than John ? [no] .',\n",
       " \"Susan is shorter than Mary . John isn't shorter than Mary . ||| who is the tallest ? [John] .\",\n",
       " \"Susan is shorter than Mary . John isn't shorter than Mary . ||| who is the shortest ? [Susan] .\",\n",
       " \"Susan is shorter than Mary . John isn't shorter than Mary . ||| is John taller than Susan ? [yes] .\",\n",
       " \"Susan is shorter than Mary . John isn't shorter than Mary . ||| is John shorter than Susan ? [no] .\",\n",
       " \"Susan is shorter than Mary . John isn't shorter than Mary . ||| is Susan shorter than John ? [yes] .\",\n",
       " \"Susan is shorter than Mary . John isn't shorter than Mary . ||| is Susan taller than John ? [no] .\",\n",
       " \"Susan is shorter than Mary . Mary isn't taller than John . ||| who is the tallest ? [John] .\",\n",
       " \"Susan is shorter than Mary . Mary isn't taller than John . ||| who is the shortest ? [Susan] .\",\n",
       " \"Susan is shorter than Mary . Mary isn't taller than John . ||| is John taller than Susan ? [yes] .\",\n",
       " \"Susan is shorter than Mary . Mary isn't taller than John . ||| is John shorter than Susan ? [no] .\",\n",
       " \"Susan is shorter than Mary . Mary isn't taller than John . ||| is Susan shorter than John ? [yes] .\",\n",
       " \"Susan is shorter than Mary . Mary isn't taller than John . ||| is Susan taller than John ? [no] .\",\n",
       " \"Mary isn't shorter than Susan . John is taller than Mary . ||| who is the tallest ? [John] .\",\n",
       " \"Mary isn't shorter than Susan . John is taller than Mary . ||| who is the shortest ? [Susan] .\",\n",
       " \"Mary isn't shorter than Susan . John is taller than Mary . ||| is John taller than Susan ? [yes] .\",\n",
       " \"Mary isn't shorter than Susan . John is taller than Mary . ||| is John shorter than Susan ? [no] .\",\n",
       " \"Mary isn't shorter than Susan . John is taller than Mary . ||| is Susan shorter than John ? [yes] .\",\n",
       " \"Mary isn't shorter than Susan . John is taller than Mary . ||| is Susan taller than John ? [no] .\",\n",
       " \"Mary isn't shorter than Susan . Mary is shorter than John . ||| who is the tallest ? [John] .\",\n",
       " \"Mary isn't shorter than Susan . Mary is shorter than John . ||| who is the shortest ? [Susan] .\",\n",
       " \"Mary isn't shorter than Susan . Mary is shorter than John . ||| is John taller than Susan ? [yes] .\",\n",
       " \"Mary isn't shorter than Susan . Mary is shorter than John . ||| is John shorter than Susan ? [no] .\",\n",
       " \"Mary isn't shorter than Susan . Mary is shorter than John . ||| is Susan shorter than John ? [yes] .\",\n",
       " \"Mary isn't shorter than Susan . Mary is shorter than John . ||| is Susan taller than John ? [no] .\",\n",
       " \"Mary isn't shorter than Susan . John isn't shorter than Mary . ||| who is the tallest ? [John] .\",\n",
       " \"Mary isn't shorter than Susan . John isn't shorter than Mary . ||| who is the shortest ? [Susan] .\",\n",
       " \"Mary isn't shorter than Susan . John isn't shorter than Mary . ||| is John taller than Susan ? [yes] .\",\n",
       " \"Mary isn't shorter than Susan . John isn't shorter than Mary . ||| is John shorter than Susan ? [no] .\",\n",
       " \"Mary isn't shorter than Susan . John isn't shorter than Mary . ||| is Susan shorter than John ? [yes] .\",\n",
       " \"Mary isn't shorter than Susan . John isn't shorter than Mary . ||| is Susan taller than John ? [no] .\",\n",
       " \"Mary isn't shorter than Susan . Mary isn't taller than John . ||| who is the tallest ? [John] .\",\n",
       " \"Mary isn't shorter than Susan . Mary isn't taller than John . ||| who is the shortest ? [Susan] .\",\n",
       " \"Mary isn't shorter than Susan . Mary isn't taller than John . ||| is John taller than Susan ? [yes] .\",\n",
       " \"Mary isn't shorter than Susan . Mary isn't taller than John . ||| is John shorter than Susan ? [no] .\",\n",
       " \"Mary isn't shorter than Susan . Mary isn't taller than John . ||| is Susan shorter than John ? [yes] .\",\n",
       " \"Mary isn't shorter than Susan . Mary isn't taller than John . ||| is Susan taller than John ? [no] .\",\n",
       " \"Susan isn't taller than Mary . John is taller than Mary . ||| who is the tallest ? [John] .\",\n",
       " \"Susan isn't taller than Mary . John is taller than Mary . ||| who is the shortest ? [Susan] .\",\n",
       " \"Susan isn't taller than Mary . John is taller than Mary . ||| is John taller than Susan ? [yes] .\",\n",
       " \"Susan isn't taller than Mary . John is taller than Mary . ||| is John shorter than Susan ? [no] .\",\n",
       " \"Susan isn't taller than Mary . John is taller than Mary . ||| is Susan shorter than John ? [yes] .\",\n",
       " \"Susan isn't taller than Mary . John is taller than Mary . ||| is Susan taller than John ? [no] .\",\n",
       " \"Susan isn't taller than Mary . Mary is shorter than John . ||| who is the tallest ? [John] .\",\n",
       " \"Susan isn't taller than Mary . Mary is shorter than John . ||| who is the shortest ? [Susan] .\",\n",
       " \"Susan isn't taller than Mary . Mary is shorter than John . ||| is John taller than Susan ? [yes] .\",\n",
       " \"Susan isn't taller than Mary . Mary is shorter than John . ||| is John shorter than Susan ? [no] .\",\n",
       " \"Susan isn't taller than Mary . Mary is shorter than John . ||| is Susan shorter than John ? [yes] .\",\n",
       " \"Susan isn't taller than Mary . Mary is shorter than John . ||| is Susan taller than John ? [no] .\",\n",
       " \"Susan isn't taller than Mary . John isn't shorter than Mary . ||| who is the tallest ? [John] .\",\n",
       " \"Susan isn't taller than Mary . John isn't shorter than Mary . ||| who is the shortest ? [Susan] .\",\n",
       " \"Susan isn't taller than Mary . John isn't shorter than Mary . ||| is John taller than Susan ? [yes] .\",\n",
       " \"Susan isn't taller than Mary . John isn't shorter than Mary . ||| is John shorter than Susan ? [no] .\",\n",
       " \"Susan isn't taller than Mary . John isn't shorter than Mary . ||| is Susan shorter than John ? [yes] .\",\n",
       " \"Susan isn't taller than Mary . John isn't shorter than Mary . ||| is Susan taller than John ? [no] .\",\n",
       " \"Susan isn't taller than Mary . Mary isn't taller than John . ||| who is the tallest ? [John] .\",\n",
       " \"Susan isn't taller than Mary . Mary isn't taller than John . ||| who is the shortest ? [Susan] .\",\n",
       " \"Susan isn't taller than Mary . Mary isn't taller than John . ||| is John taller than Susan ? [yes] .\",\n",
       " \"Susan isn't taller than Mary . Mary isn't taller than John . ||| is John shorter than Susan ? [no] .\",\n",
       " \"Susan isn't taller than Mary . Mary isn't taller than John . ||| is Susan shorter than John ? [yes] .\",\n",
       " \"Susan isn't taller than Mary . Mary isn't taller than John . ||| is Susan taller than John ? [no] .\"]"
      ]
     },
     "execution_count": 44,
     "metadata": {},
     "output_type": "execute_result"
    }
   ],
   "source": [
    "transitive_P_template = '{ent0} {rel} {ent1} .'\n",
    "transitive_wh_QA_template = '{which} is {pred} ? {ent} .'\n",
    "transitive_yesno_QA_template = 'is {ent0} {rel} {ent1} ? {ans} .'\n",
    "\n",
    "def make_transitive(P_template, wh_QA_template, yesno_QA_template, join_template,\n",
    "                   index=-1, orig_sentence='', entities=[\"John\", \"Mary\", \"Susan\"], entity_substitutes=None, determiner=\"\", \n",
    "                   relations=('taller..than', 'shorter..than'), maybe=True, structured=False,\n",
    "                   packed_predicates=[\"pred0/~pred0\", \"pred1/~pred1\"], predicate_substitutes=None,\n",
    "                   predicate_dichotomy=True, reverse_causal=False):\n",
    "    if entities[0].islower():\n",
    "        entities = ['the ' + e for e in entities]\n",
    "#     print('relations =', relations)\n",
    "    relations, predicates = ([r.replace('..', ' ') for r in relations], [r.split('..')[0] for r in relations]) \\\n",
    "        if '..' in relations[0] else ([r.split('/')[0] for r in relations], [r.split('/')[-1] for r in relations])\n",
    "#     print('relations =', relations, 'predicates =', predicates)\n",
    "    predicates = [comparative2superlative(p, structured=structured) for p in predicates]\n",
    "    \n",
    "    P0_entities, P1_entities = ([entities[0], entities[1]], [entities[1], entities[2]]) \\\n",
    "        if not maybe else ([entities[0], entities[1]], [entities[0], entities[2]])\n",
    "    P0 = make_relational_atoms(P_template, P0_entities, relations)\n",
    "    P1 = make_relational_atoms(P_template, P1_entities, relations)\n",
    "        \n",
    "    wh_pronoun = 'which' if entities[0].startswith('the') else 'who'\n",
    "    wh_QA = [wh_QA_template.format(which=wh_pronoun, pred=pred, ent=ent) \n",
    "             for pred, ent in [(predicates[0], mask(entities[0])), (predicates[-1], mask(entities[-1] if not maybe else 'unknown'))]]\n",
    "    \n",
    "    def _maybe(s):\n",
    "         return s if not maybe else 'maybe'\n",
    "    yesno_entities = (entities[0], entities[-1]) if not maybe else (entities[1], entities[-1])\n",
    "    yesno_QA = [yesno_QA_template.format(ent0=ent0, ent1=ent1, rel=rel, ans=ans) \n",
    "                for ent0, ent1, rel, ans in [\n",
    "                    (yesno_entities[0], yesno_entities[-1], relations[0], mask(_maybe('yes'))), \n",
    "                    (yesno_entities[0], yesno_entities[-1], relations[-1], mask(_maybe('no'))),\n",
    "                    (yesno_entities[-1], yesno_entities[0], relations[-1], mask(_maybe('yes'))),\n",
    "                    (yesno_entities[-1], yesno_entities[0], relations[0], mask(_maybe('no')))]]\n",
    "    \n",
    "    Ps = [(p0, p1) for p0, p1 in list(product(P0, P1)) + list(product(P1, P0))]\n",
    "    QAs = wh_QA + yesno_QA\n",
    "    \n",
    "    def get_rel(atom):\n",
    "        for rel in relations:\n",
    "#             assert rel.startswith('is')\n",
    "            rel = rel.split()[0]  # \"taller than\" -> \"taller\"\n",
    "            if rel in atom:\n",
    "                return rel\n",
    "        assert False\n",
    "    sentences = [p0 + ' ' + p1 + ' ||| ' + qas for (p0, p1), qas in product(Ps, QAs)\n",
    "                 if not structured or get_rel(p0) == get_rel(p1) == get_rel(qas)]\n",
    "#     sentences = [s.replace('er st ', 'est ') for s in sentences]\n",
    "    return sentences\n",
    "\n",
    "sentences = make_transitive(transitive_P_template, transitive_wh_QA_template, transitive_yesno_QA_template, None, maybe=False, structured=False)\n",
    "# len(sentences)\n",
    "sample(sentences, 20)\n",
    "sentences"
   ]
  },
  {
   "cell_type": "code",
   "execution_count": 41,
   "metadata": {},
   "outputs": [
    {
     "data": {
      "text/plain": [
       "'a . . . b . . . c'"
      ]
     },
     "execution_count": 41,
     "metadata": {},
     "output_type": "execute_result"
    },
    {
     "ename": "TypeError",
     "evalue": "object of type 'NoneType' has no len()",
     "output_type": "error",
     "traceback": [
      "\u001b[0;31m---------------------------------------------------------------------------\u001b[0m",
      "\u001b[0;31mTypeError\u001b[0m                                 Traceback (most recent call last)",
      "\u001b[0;32m<ipython-input-41-e32c5a2fb4c1>\u001b[0m in \u001b[0;36m<module>\u001b[0;34m()\u001b[0m\n\u001b[1;32m      1\u001b[0m \u001b[0;34m'a'\u001b[0m \u001b[0;34m+\u001b[0m \u001b[0;34m' .'\u001b[0m\u001b[0;34m*\u001b[0m\u001b[0mrandom\u001b[0m\u001b[0;34m.\u001b[0m\u001b[0mrandint\u001b[0m\u001b[0;34m(\u001b[0m\u001b[0;36m0\u001b[0m\u001b[0;34m,\u001b[0m \u001b[0;36m10\u001b[0m\u001b[0;34m)\u001b[0m \u001b[0;34m+\u001b[0m \u001b[0;34m' '\u001b[0m \u001b[0;34m+\u001b[0m \u001b[0;34m'b'\u001b[0m \u001b[0;34m+\u001b[0m  \u001b[0;34m' .'\u001b[0m\u001b[0;34m*\u001b[0m\u001b[0mrandom\u001b[0m\u001b[0;34m.\u001b[0m\u001b[0mrandint\u001b[0m\u001b[0;34m(\u001b[0m\u001b[0;36m0\u001b[0m\u001b[0;34m,\u001b[0m \u001b[0;36m10\u001b[0m\u001b[0;34m)\u001b[0m \u001b[0;34m+\u001b[0m \u001b[0;34m' '\u001b[0m \u001b[0;34m+\u001b[0m  \u001b[0;34m'c'\u001b[0m\u001b[0;34m\u001b[0m\u001b[0m\n\u001b[0;32m----> 2\u001b[0;31m \u001b[0mlen\u001b[0m\u001b[0;34m(\u001b[0m\u001b[0;32mNone\u001b[0m\u001b[0;34m)\u001b[0m\u001b[0;34m\u001b[0m\u001b[0m\n\u001b[0m",
      "\u001b[0;31mTypeError\u001b[0m: object of type 'NoneType' has no len()"
     ]
    }
   ],
   "source": [
    "'a' + ' .'*random.randint(0, 10) + ' ' + 'b' +  ' .'*random.randint(0, 10) + ' ' +  'c'\n",
    "len(None)"
   ]
  },
  {
   "cell_type": "code",
   "execution_count": 23,
   "metadata": {},
   "outputs": [
    {
     "data": {
      "text/plain": [
       "['James is older than Jennifer . Jennifer is older than John . ||| is James older than John ? [yes] .',\n",
       " \"James is younger than Jennifer . James isn't younger than Linda . ||| who is the younger st ? [Linda] .\",\n",
       " \"Linda is shorter than Mary . Linda isn't shorter than Robert . ||| is Mary shorter than Robert ? [no] .\",\n",
       " 'Linda is shorter than Robert . John is shorter than Linda . ||| who is the shorter st ? [John] .',\n",
       " 'Mary is older than Robert . John is older than Mary . ||| is Robert older than John ? [no] .',\n",
       " \"Jennifer isn't younger than Robert . James is younger than Robert . ||| is Jennifer younger than James ? [no] .\",\n",
       " \"Mary is shorter than Jennifer . Mary isn't shorter than John . ||| who is the shorter st ? [John] .\",\n",
       " \"Linda isn't taller than Robert . Linda is taller than John . ||| who is the taller st ? [Robert] .\",\n",
       " \"Robert isn't younger than Mary . Mary isn't younger than Linda . ||| is Robert younger than Linda ? [no] .\",\n",
       " \"Jennifer isn't taller than Linda . Mary isn't taller than Jennifer . ||| who is the taller st ? [Linda] .\",\n",
       " \"Mary isn't older than Linda . John isn't older than Mary . ||| is John older than Linda ? [no] .\",\n",
       " \"Linda is taller than Robert . John isn't taller than Robert . ||| is John taller than Linda ? [no] .\",\n",
       " \"Robert isn't older than Jennifer . James is older than Jennifer . ||| is Robert older than James ? [no] .\",\n",
       " \"Linda isn't older than Jennifer . Jennifer isn't older than James . ||| is Linda older than James ? [no] .\",\n",
       " \"Jennifer is shorter than Robert . John isn't shorter than Robert . ||| is Jennifer shorter than John ? [yes] .\",\n",
       " 'James is older than Mary . Jennifer is older than James . ||| is Mary older than Jennifer ? [no] .',\n",
       " 'Jennifer is taller than John . John is taller than Robert . ||| is Jennifer taller than Robert ? [yes] .',\n",
       " \"John is younger than Linda . Mary isn't younger than Linda . ||| who is the younger st ? [John] .\",\n",
       " \"Jennifer is younger than Mary . Jennifer isn't younger than John . ||| who is the younger st ? [John] .\",\n",
       " \"Robert is younger than John . Linda isn't younger than John . ||| is Linda younger than Robert ? [no] .\"]"
      ]
     },
     "execution_count": 23,
     "metadata": {},
     "output_type": "execute_result"
    },
    {
     "name": "stdout",
     "output_type": "stream",
     "text": [
      "num_sent = 11520 -> 11520\n"
     ]
    }
   ],
   "source": [
    "sentence_groups = []\n",
    "maybe = False\n",
    "for relations, entity_types in rel2entypes.items():\n",
    "    sentences = []\n",
    "    ent_tuples = []\n",
    "    for entities in entity_types:\n",
    "        if isinstance(entities, list):\n",
    "            ent_tuples += permutations(entities, 3)\n",
    "        else:\n",
    "            assert isinstance(entities, tuple) and len(entities) == 2  # people_names\n",
    "            ent_tuples += permutations(entities[0] + entities[1], 3)\n",
    "    for (rel, ent_tuple) in product(relations, ent_tuples):\n",
    "        sentences += make_transitive(transitive_P_template, transitive_wh_QA_template, transitive_yesno_QA_template, None, \n",
    "                            entities=list(ent_tuple), relations=rel, maybe=False, structured=True)\n",
    "        if maybe:\n",
    "            sentences += make_transitive(transitive_P_template, transitive_wh_QA_template, transitive_yesno_QA_template, None, \n",
    "                                entities=list(ent_tuple), relations=rel, maybe=True, structured=True)\n",
    "    sample(sentences, 20)\n",
    "    print('num_sent =', len(sentences), '->', len(set(sentences)))\n",
    "    sentence_groups.append(sentences)"
   ]
  },
  {
   "cell_type": "code",
   "execution_count": 247,
   "metadata": {},
   "outputs": [
    {
     "data": {
      "text/plain": [
       "_StoreAction(option_strings=['--max_seq_length'], dest='max_seq_length', nargs=None, const=None, default=128, type=<class 'int'>, choices=None, help='The maximum total input sequence length after WordPiece tokenization. \\nSequences longer than this will be truncated, and sequences shorter \\nthan this will be padded.', metavar=None)"
      ]
     },
     "execution_count": 247,
     "metadata": {},
     "output_type": "execute_result"
    },
    {
     "data": {
      "text/plain": [
       "_StoreTrueAction(option_strings=['--do_train'], dest='do_train', nargs=0, const=True, default=False, type=None, choices=None, help='Whether to run training.', metavar=None)"
      ]
     },
     "execution_count": 247,
     "metadata": {},
     "output_type": "execute_result"
    },
    {
     "data": {
      "text/plain": [
       "_StoreTrueAction(option_strings=['--do_eval'], dest='do_eval', nargs=0, const=True, default=False, type=None, choices=None, help='Whether to run eval on the dev set.', metavar=None)"
      ]
     },
     "execution_count": 247,
     "metadata": {},
     "output_type": "execute_result"
    },
    {
     "data": {
      "text/plain": [
       "_StoreAction(option_strings=['--train_batch_size'], dest='train_batch_size', nargs=None, const=None, default=32, type=<class 'int'>, choices=None, help='Total batch size for training.', metavar=None)"
      ]
     },
     "execution_count": 247,
     "metadata": {},
     "output_type": "execute_result"
    },
    {
     "data": {
      "text/plain": [
       "_StoreAction(option_strings=['--eval_batch_size'], dest='eval_batch_size', nargs=None, const=None, default=32, type=<class 'int'>, choices=None, help='Total batch size for eval.', metavar=None)"
      ]
     },
     "execution_count": 247,
     "metadata": {},
     "output_type": "execute_result"
    },
    {
     "data": {
      "text/plain": [
       "_StoreAction(option_strings=['--learning_rate'], dest='learning_rate', nargs=None, const=None, default=3e-05, type=<class 'float'>, choices=None, help='The initial learning rate for Adam.', metavar=None)"
      ]
     },
     "execution_count": 247,
     "metadata": {},
     "output_type": "execute_result"
    },
    {
     "data": {
      "text/plain": [
       "_StoreAction(option_strings=['--num_train_epochs'], dest='num_train_epochs', nargs=None, const=None, default=3.0, type=<class 'float'>, choices=None, help='Total number of training epochs to perform.', metavar=None)"
      ]
     },
     "execution_count": 247,
     "metadata": {},
     "output_type": "execute_result"
    },
    {
     "data": {
      "text/plain": [
       "_StoreAction(option_strings=['--warmup_proportion'], dest='warmup_proportion', nargs=None, const=None, default=0.1, type=<class 'float'>, choices=None, help='Proportion of training to perform linear learning rate warmup for. E.g., 0.1 = 10%% of training.', metavar=None)"
      ]
     },
     "execution_count": 247,
     "metadata": {},
     "output_type": "execute_result"
    },
    {
     "data": {
      "text/plain": [
       "_StoreTrueAction(option_strings=['--no_cuda'], dest='no_cuda', nargs=0, const=True, default=False, type=None, choices=None, help='Whether not to use CUDA when available', metavar=None)"
      ]
     },
     "execution_count": 247,
     "metadata": {},
     "output_type": "execute_result"
    },
    {
     "data": {
      "text/plain": [
       "_StoreTrueAction(option_strings=['--do_lower_case'], dest='do_lower_case', nargs=0, const=True, default=False, type=None, choices=None, help='Whether to lower case the input text. True for uncased models, False for cased models.', metavar=None)"
      ]
     },
     "execution_count": 247,
     "metadata": {},
     "output_type": "execute_result"
    },
    {
     "data": {
      "text/plain": [
       "_StoreAction(option_strings=['--seed'], dest='seed', nargs=None, const=None, default=42, type=<class 'int'>, choices=None, help='random seed for initialization', metavar=None)"
      ]
     },
     "execution_count": 247,
     "metadata": {},
     "output_type": "execute_result"
    },
    {
     "data": {
      "text/plain": [
       "_StoreAction(option_strings=['--gradient_accumulation_steps'], dest='gradient_accumulation_steps', nargs=None, const=None, default=1, type=<class 'int'>, choices=None, help='Number of updates steps to accumualte before performing a backward/update pass.', metavar=None)"
      ]
     },
     "execution_count": 247,
     "metadata": {},
     "output_type": "execute_result"
    },
    {
     "name": "stdout",
     "output_type": "stream",
     "text": [
      "Namespace(do_eval=True, do_lower_case=True, do_train=True, eval_batch_size=128, gradient_accumulation_steps=1, learning_rate=0.0001, max_seq_length=128, no_cuda=False, num_train_epochs=100, seed=42, train_batch_size=32, warmup_proportion=0.1)\n"
     ]
    }
   ],
   "source": [
    "import argparse\n",
    "parser = argparse.ArgumentParser()\n",
    "\n",
    "parser.add_argument(\"--max_seq_length\",\n",
    "                    default=128,\n",
    "                    type=int,\n",
    "                    help=\"The maximum total input sequence length after WordPiece tokenization. \\n\"\n",
    "                         \"Sequences longer than this will be truncated, and sequences shorter \\n\"\n",
    "                         \"than this will be padded.\")\n",
    "parser.add_argument(\"--do_train\",\n",
    "                    action='store_true',\n",
    "                    help=\"Whether to run training.\")\n",
    "parser.add_argument(\"--do_eval\",\n",
    "                    action='store_true',\n",
    "                    help=\"Whether to run eval on the dev set.\")\n",
    "parser.add_argument(\"--train_batch_size\",\n",
    "                    default=32,\n",
    "                    type=int,\n",
    "                    help=\"Total batch size for training.\")\n",
    "parser.add_argument(\"--eval_batch_size\",\n",
    "                    default=32,\n",
    "                    type=int,\n",
    "                    help=\"Total batch size for eval.\")\n",
    "parser.add_argument(\"--learning_rate\",\n",
    "                    default=3e-5,\n",
    "                    type=float,\n",
    "                    help=\"The initial learning rate for Adam.\")\n",
    "parser.add_argument(\"--num_train_epochs\",\n",
    "                    default=3.0,\n",
    "                    type=float,\n",
    "                    help=\"Total number of training epochs to perform.\")\n",
    "parser.add_argument(\"--warmup_proportion\",\n",
    "                    default=0.1,\n",
    "                    type=float,\n",
    "                    help=\"Proportion of training to perform linear learning rate warmup for. \"\n",
    "                         \"E.g., 0.1 = 10%% of training.\")\n",
    "parser.add_argument(\"--no_cuda\",\n",
    "                    action='store_true',\n",
    "                    help=\"Whether not to use CUDA when available\")\n",
    "parser.add_argument(\"--do_lower_case\",\n",
    "                    action='store_true',\n",
    "                    help=\"Whether to lower case the input text. True for uncased models, False for cased models.\")\n",
    "parser.add_argument('--seed',\n",
    "                    type=int,\n",
    "                    default=42,\n",
    "                    help=\"random seed for initialization\")\n",
    "parser.add_argument('--gradient_accumulation_steps',\n",
    "                    type=int,\n",
    "                    default=1,\n",
    "                    help=\"Number of updates steps to accumualte before performing a backward/update pass.\")\n",
    "parser.add_argument(\"--dev_percent\",\n",
    "                    default=0.5,\n",
    "                    type=float)\n",
    "# args = parser.parse_args(['--output_dir', '/home'])\n",
    "args = parser.parse_args([])\n",
    "args.do_lower_case = True\n",
    "args.do_train = True\n",
    "args.do_eval = True\n",
    "args.eval_batch_size = 128\n",
    "args.learning_rate = 1e-4\n",
    "args.num_train_epochs = 100\n",
    "print(args)"
   ]
  },
  {
   "cell_type": "code",
   "execution_count": 243,
   "metadata": {
    "scrolled": true
   },
   "outputs": [
    {
     "name": "stdout",
     "output_type": "stream",
     "text": [
      "num_train_steps = 10800\n"
     ]
    }
   ],
   "source": [
    "child_dataset = CHILDDataset(tokenizer, sentence_groups[0], dev_percent=0.5)\n",
    "train_features = child_dataset.get_train_features()\n",
    "num_train_steps = int(\n",
    "    len(train_features) / args.train_batch_size / args.gradient_accumulation_steps * args.num_train_epochs)\n",
    "print('num_train_steps =', num_train_steps)\n",
    "eval_features = child_dataset.get_dev_features()\n",
    "\n",
    "train_dataset = child_dataset.build_dataset(train_features)\n",
    "eval_dataset = child_dataset.build_dataset(eval_features)"
   ]
  },
  {
   "cell_type": "code",
   "execution_count": 250,
   "metadata": {},
   "outputs": [
    {
     "name": "stderr",
     "output_type": "stream",
     "text": [
      "06/09/2019 10:05:44 - INFO - run_child_finetuning -   device: cuda n_gpu: 1\n"
     ]
    },
    {
     "data": {
      "text/plain": [
       "<torch._C.Generator at 0x7f7d219e97b0>"
      ]
     },
     "execution_count": 250,
     "metadata": {},
     "output_type": "execute_result"
    }
   ],
   "source": [
    "device = torch.device(\"cuda\" if torch.cuda.is_available() and not args.no_cuda else \"cpu\")\n",
    "n_gpu = torch.cuda.device_count()\n",
    "logger.info(\"device: {} n_gpu: {}\".format(\n",
    "        device, n_gpu))\n",
    "\n",
    "args.train_batch_size = int(args.train_batch_size / args.gradient_accumulation_steps)\n",
    "\n",
    "random.seed(args.seed)\n",
    "np.random.seed(args.seed)\n",
    "torch.manual_seed(args.seed)\n",
    "if n_gpu > 0:\n",
    "    torch.cuda.manual_seed_all(args.seed)\n",
    "\n",
    "# Prepare model\n",
    "# model = BertForMaskedLM.from_pretrained(BERT_DIR)\n",
    "CONFIG_NAME = 'bert_config_small.json'\n",
    "config = BertConfig(os.path.join(BERT_DIR, CONFIG_NAME))\n",
    "model = BertForMaskedLM(config)\n",
    "_ = model.to(device)\n",
    "if n_gpu > 1:\n",
    "    model = torch.nn.DataParallel(model)"
   ]
  },
  {
   "cell_type": "code",
   "execution_count": 252,
   "metadata": {},
   "outputs": [],
   "source": [
    "# Prepare optimizer\n",
    "param_optimizer = list(model.named_parameters())\n",
    "no_decay = ['bias', 'LayerNorm.bias', 'LayerNorm.weight']\n",
    "optimizer_grouped_parameters = [\n",
    "    {'params': [p for n, p in param_optimizer if not any(nd in n for nd in no_decay)], 'weight_decay': 0.01},\n",
    "    {'params': [p for n, p in param_optimizer if any(nd in n for nd in no_decay)], 'weight_decay': 0.0}\n",
    "    ]\n",
    "optimizer = BertAdam(optimizer_grouped_parameters,\n",
    "                     lr=args.learning_rate,\n",
    "                     warmup=args.warmup_proportion,\n",
    "                     t_total=num_train_steps)"
   ]
  },
  {
   "cell_type": "code",
   "execution_count": 253,
   "metadata": {},
   "outputs": [
    {
     "name": "stderr",
     "output_type": "stream",
     "text": [
      "\n",
      "\n",
      "\n",
      "\n",
      "Epoch:   0%|          | 0/100 [00:00<?, ?it/s]\u001b[A\u001b[A\u001b[A\u001b[A"
     ]
    },
    {
     "name": "stdout",
     "output_type": "stream",
     "text": [
      "global_step 0, lr = 0.000000\n"
     ]
    },
    {
     "name": "stderr",
     "output_type": "stream",
     "text": [
      "06/09/2019 10:10:32 - INFO - run_child_finetuning -   Epoch 1\n",
      "06/09/2019 10:10:32 - INFO - run_child_finetuning -   Evaluating on train set...\n",
      "06/09/2019 10:11:00 - INFO - run_child_finetuning -   ***** Eval results *****\n",
      "06/09/2019 10:11:00 - INFO - run_child_finetuning -     eval_accuracy = 0.3390625\n",
      "06/09/2019 10:11:00 - INFO - run_child_finetuning -     eval_loss = 9.694811651441785\n",
      "06/09/2019 10:11:00 - INFO - run_child_finetuning -   Evaluating on valid set...\n",
      "06/09/2019 10:11:28 - INFO - run_child_finetuning -   ***** Eval results *****\n",
      "06/09/2019 10:11:28 - INFO - run_child_finetuning -     eval_accuracy = 0.32760416666666664\n",
      "06/09/2019 10:11:28 - INFO - run_child_finetuning -     eval_loss = 9.699780379401313\n",
      "\n",
      "\n",
      "\n",
      "\n",
      "Epoch:   1%|          | 1/100 [01:06<1:49:31, 66.37s/it]\u001b[A\u001b[A\u001b[A\u001b[A06/09/2019 10:11:39 - INFO - run_child_finetuning -   Epoch 2\n",
      "06/09/2019 10:11:39 - INFO - run_child_finetuning -   Evaluating on train set...\n",
      "06/09/2019 10:12:07 - INFO - run_child_finetuning -   ***** Eval results *****\n",
      "06/09/2019 10:12:07 - INFO - run_child_finetuning -     eval_accuracy = 0.3390625\n",
      "06/09/2019 10:12:07 - INFO - run_child_finetuning -     eval_loss = 7.738626289367676\n",
      "06/09/2019 10:12:07 - INFO - run_child_finetuning -   Evaluating on valid set...\n",
      "06/09/2019 10:12:34 - INFO - run_child_finetuning -   ***** Eval results *****\n",
      "06/09/2019 10:12:34 - INFO - run_child_finetuning -     eval_accuracy = 0.32760416666666664\n",
      "06/09/2019 10:12:35 - INFO - run_child_finetuning -     eval_loss = 7.746824651294284\n",
      "\n",
      "\n",
      "\n",
      "\n",
      "Epoch:   2%|▏         | 2/100 [02:13<1:48:35, 66.49s/it]\u001b[A\u001b[A\u001b[A\u001b[A"
     ]
    },
    {
     "name": "stdout",
     "output_type": "stream",
     "text": [
      "global_step 1000, lr = 0.000093\n"
     ]
    },
    {
     "name": "stderr",
     "output_type": "stream",
     "text": [
      "06/09/2019 10:12:45 - INFO - run_child_finetuning -   Epoch 3\n",
      "06/09/2019 10:12:45 - INFO - run_child_finetuning -   Evaluating on train set...\n",
      "06/09/2019 10:13:13 - INFO - run_child_finetuning -   ***** Eval results *****\n",
      "06/09/2019 10:13:13 - INFO - run_child_finetuning -     eval_accuracy = 0.3390625\n",
      "06/09/2019 10:13:13 - INFO - run_child_finetuning -     eval_loss = 3.257909724447462\n",
      "06/09/2019 10:13:13 - INFO - run_child_finetuning -   Evaluating on valid set...\n",
      "06/09/2019 10:13:40 - INFO - run_child_finetuning -   ***** Eval results *****\n",
      "06/09/2019 10:13:40 - INFO - run_child_finetuning -     eval_accuracy = 0.32760416666666664\n",
      "06/09/2019 10:13:40 - INFO - run_child_finetuning -     eval_loss = 3.2719171391593087\n",
      "\n",
      "\n",
      "\n",
      "\n",
      "Epoch:   3%|▎         | 3/100 [03:19<1:47:13, 66.32s/it]\u001b[A\u001b[A\u001b[A\u001b[A06/09/2019 10:13:51 - INFO - run_child_finetuning -   Epoch 4\n",
      "06/09/2019 10:13:51 - INFO - run_child_finetuning -   Evaluating on train set...\n",
      "06/09/2019 10:14:19 - INFO - run_child_finetuning -   ***** Eval results *****\n",
      "06/09/2019 10:14:19 - INFO - run_child_finetuning -     eval_accuracy = 0.3390625\n",
      "06/09/2019 10:14:19 - INFO - run_child_finetuning -     eval_loss = 2.0499441080623204\n",
      "06/09/2019 10:14:19 - INFO - run_child_finetuning -   Evaluating on valid set...\n",
      "06/09/2019 10:14:46 - INFO - run_child_finetuning -   ***** Eval results *****\n",
      "06/09/2019 10:14:46 - INFO - run_child_finetuning -     eval_accuracy = 0.32760416666666664\n",
      "06/09/2019 10:14:46 - INFO - run_child_finetuning -     eval_loss = 2.066389168633355\n",
      "\n",
      "\n",
      "\n",
      "\n",
      "Epoch:   4%|▍         | 4/100 [04:24<1:45:55, 66.20s/it]\u001b[A\u001b[A\u001b[A\u001b[A06/09/2019 10:14:57 - INFO - run_child_finetuning -   Epoch 5\n",
      "06/09/2019 10:14:57 - INFO - run_child_finetuning -   Evaluating on train set...\n",
      "06/09/2019 10:15:25 - INFO - run_child_finetuning -   ***** Eval results *****\n",
      "06/09/2019 10:15:25 - INFO - run_child_finetuning -     eval_accuracy = 0.3390625\n",
      "06/09/2019 10:15:25 - INFO - run_child_finetuning -     eval_loss = 1.707436407936944\n",
      "06/09/2019 10:15:25 - INFO - run_child_finetuning -   Evaluating on valid set...\n",
      "06/09/2019 10:15:52 - INFO - run_child_finetuning -   ***** Eval results *****\n",
      "06/09/2019 10:15:52 - INFO - run_child_finetuning -     eval_accuracy = 0.32760416666666664\n",
      "06/09/2019 10:15:52 - INFO - run_child_finetuning -     eval_loss = 1.7236953417460124\n",
      "\n",
      "\n",
      "\n",
      "\n",
      "Epoch:   5%|▌         | 5/100 [05:30<1:44:41, 66.12s/it]\u001b[A\u001b[A\u001b[A\u001b[A"
     ]
    },
    {
     "name": "stdout",
     "output_type": "stream",
     "text": [
      "global_step 2000, lr = 0.000081\n"
     ]
    },
    {
     "name": "stderr",
     "output_type": "stream",
     "text": [
      "06/09/2019 10:16:03 - INFO - run_child_finetuning -   Epoch 6\n",
      "06/09/2019 10:16:03 - INFO - run_child_finetuning -   Evaluating on train set...\n",
      "06/09/2019 10:16:31 - INFO - run_child_finetuning -   ***** Eval results *****\n",
      "06/09/2019 10:16:31 - INFO - run_child_finetuning -     eval_accuracy = 0.4223090277777778\n",
      "06/09/2019 10:16:31 - INFO - run_child_finetuning -     eval_loss = 1.4861090461413065\n",
      "06/09/2019 10:16:31 - INFO - run_child_finetuning -   Evaluating on valid set...\n",
      "06/09/2019 10:16:59 - INFO - run_child_finetuning -   ***** Eval results *****\n",
      "06/09/2019 10:16:59 - INFO - run_child_finetuning -     eval_accuracy = 0.4110243055555556\n",
      "06/09/2019 10:16:59 - INFO - run_child_finetuning -     eval_loss = 1.500312285953098\n",
      "\n",
      "\n",
      "\n",
      "\n",
      "Epoch:   6%|▌         | 6/100 [06:37<1:44:00, 66.38s/it]\u001b[A\u001b[A\u001b[A\u001b[A06/09/2019 10:17:10 - INFO - run_child_finetuning -   Epoch 7\n",
      "06/09/2019 10:17:10 - INFO - run_child_finetuning -   Evaluating on train set...\n",
      "06/09/2019 10:17:38 - INFO - run_child_finetuning -   ***** Eval results *****\n",
      "06/09/2019 10:17:38 - INFO - run_child_finetuning -     eval_accuracy = 0.4223090277777778\n",
      "06/09/2019 10:17:38 - INFO - run_child_finetuning -     eval_loss = 1.414702398247189\n",
      "06/09/2019 10:17:38 - INFO - run_child_finetuning -   Evaluating on valid set...\n",
      "06/09/2019 10:18:05 - INFO - run_child_finetuning -   ***** Eval results *****\n",
      "06/09/2019 10:18:05 - INFO - run_child_finetuning -     eval_accuracy = 0.4110243055555556\n",
      "06/09/2019 10:18:05 - INFO - run_child_finetuning -     eval_loss = 1.4278037812974718\n",
      "\n",
      "\n",
      "\n",
      "\n",
      "Epoch:   7%|▋         | 7/100 [07:44<1:42:47, 66.31s/it]\u001b[A\u001b[A\u001b[A\u001b[A06/09/2019 10:18:16 - INFO - run_child_finetuning -   Epoch 8\n",
      "06/09/2019 10:18:16 - INFO - run_child_finetuning -   Evaluating on train set...\n",
      "06/09/2019 10:18:44 - INFO - run_child_finetuning -   ***** Eval results *****\n",
      "06/09/2019 10:18:44 - INFO - run_child_finetuning -     eval_accuracy = 0.4223090277777778\n",
      "06/09/2019 10:18:44 - INFO - run_child_finetuning -     eval_loss = 1.3849829329384697\n",
      "06/09/2019 10:18:44 - INFO - run_child_finetuning -   Evaluating on valid set...\n",
      "06/09/2019 10:19:11 - INFO - run_child_finetuning -   ***** Eval results *****\n",
      "06/09/2019 10:19:11 - INFO - run_child_finetuning -     eval_accuracy = 0.4110243055555556\n",
      "06/09/2019 10:19:11 - INFO - run_child_finetuning -     eval_loss = 1.3974607268969217\n",
      "\n",
      "\n",
      "\n",
      "\n",
      "Epoch:   8%|▊         | 8/100 [08:50<1:41:30, 66.20s/it]\u001b[A\u001b[A\u001b[A\u001b[A"
     ]
    },
    {
     "name": "stdout",
     "output_type": "stream",
     "text": [
      "global_step 3000, lr = 0.000072\n"
     ]
    },
    {
     "name": "stderr",
     "output_type": "stream",
     "text": [
      "06/09/2019 10:19:22 - INFO - run_child_finetuning -   Epoch 9\n",
      "06/09/2019 10:19:22 - INFO - run_child_finetuning -   Evaluating on train set...\n",
      "06/09/2019 10:19:50 - INFO - run_child_finetuning -   ***** Eval results *****\n",
      "06/09/2019 10:19:50 - INFO - run_child_finetuning -     eval_accuracy = 0.4223090277777778\n",
      "06/09/2019 10:19:50 - INFO - run_child_finetuning -     eval_loss = 1.369037503666348\n",
      "06/09/2019 10:19:50 - INFO - run_child_finetuning -   Evaluating on valid set...\n",
      "06/09/2019 10:20:17 - INFO - run_child_finetuning -   ***** Eval results *****\n",
      "06/09/2019 10:20:17 - INFO - run_child_finetuning -     eval_accuracy = 0.4110243055555556\n",
      "06/09/2019 10:20:17 - INFO - run_child_finetuning -     eval_loss = 1.3817288875579834\n",
      "\n",
      "\n",
      "\n",
      "\n",
      "Epoch:   9%|▉         | 9/100 [09:56<1:40:18, 66.14s/it]\u001b[A\u001b[A\u001b[A\u001b[A06/09/2019 10:20:28 - INFO - run_child_finetuning -   Epoch 10\n",
      "06/09/2019 10:20:28 - INFO - run_child_finetuning -   Evaluating on train set...\n",
      "06/09/2019 10:20:56 - INFO - run_child_finetuning -   ***** Eval results *****\n",
      "06/09/2019 10:20:56 - INFO - run_child_finetuning -     eval_accuracy = 0.4223090277777778\n",
      "06/09/2019 10:20:56 - INFO - run_child_finetuning -     eval_loss = 1.3590228782759772\n",
      "06/09/2019 10:20:56 - INFO - run_child_finetuning -   Evaluating on valid set...\n",
      "06/09/2019 10:21:24 - INFO - run_child_finetuning -   ***** Eval results *****\n",
      "06/09/2019 10:21:24 - INFO - run_child_finetuning -     eval_accuracy = 0.4110243055555556\n",
      "06/09/2019 10:21:24 - INFO - run_child_finetuning -     eval_loss = 1.3718345721562704\n",
      "\n",
      "\n",
      "\n",
      "\n",
      "Epoch:  10%|█         | 10/100 [11:02<1:39:22, 66.25s/it]\u001b[A\u001b[A\u001b[A\u001b[A06/09/2019 10:21:34 - INFO - run_child_finetuning -   Epoch 11\n",
      "06/09/2019 10:21:34 - INFO - run_child_finetuning -   Evaluating on train set...\n",
      "06/09/2019 10:22:02 - INFO - run_child_finetuning -   ***** Eval results *****\n",
      "06/09/2019 10:22:02 - INFO - run_child_finetuning -     eval_accuracy = 0.4223090277777778\n",
      "06/09/2019 10:22:02 - INFO - run_child_finetuning -     eval_loss = 1.352443257967631\n",
      "06/09/2019 10:22:02 - INFO - run_child_finetuning -   Evaluating on valid set...\n",
      "06/09/2019 10:22:30 - INFO - run_child_finetuning -   ***** Eval results *****\n",
      "06/09/2019 10:22:30 - INFO - run_child_finetuning -     eval_accuracy = 0.4110243055555556\n",
      "06/09/2019 10:22:30 - INFO - run_child_finetuning -     eval_loss = 1.3645663738250733\n",
      "\n",
      "\n",
      "\n",
      "\n",
      "Epoch:  11%|█         | 11/100 [12:08<1:38:12, 66.21s/it]\u001b[A\u001b[A\u001b[A\u001b[A"
     ]
    },
    {
     "name": "stdout",
     "output_type": "stream",
     "text": [
      "global_step 4000, lr = 0.000063\n"
     ]
    },
    {
     "name": "stderr",
     "output_type": "stream",
     "text": [
      "06/09/2019 10:22:40 - INFO - run_child_finetuning -   Epoch 12\n",
      "06/09/2019 10:22:40 - INFO - run_child_finetuning -   Evaluating on train set...\n",
      "06/09/2019 10:23:08 - INFO - run_child_finetuning -   ***** Eval results *****\n",
      "06/09/2019 10:23:08 - INFO - run_child_finetuning -     eval_accuracy = 0.4223090277777778\n",
      "06/09/2019 10:23:08 - INFO - run_child_finetuning -     eval_loss = 1.3473159684075249\n",
      "06/09/2019 10:23:08 - INFO - run_child_finetuning -   Evaluating on valid set...\n",
      "06/09/2019 10:23:36 - INFO - run_child_finetuning -   ***** Eval results *****\n",
      "06/09/2019 10:23:36 - INFO - run_child_finetuning -     eval_accuracy = 0.4110243055555556\n",
      "06/09/2019 10:23:36 - INFO - run_child_finetuning -     eval_loss = 1.3603505068355137\n",
      "\n",
      "\n",
      "\n",
      "\n",
      "Epoch:  12%|█▏        | 12/100 [13:14<1:37:00, 66.14s/it]\u001b[A\u001b[A\u001b[A\u001b[A06/09/2019 10:23:46 - INFO - run_child_finetuning -   Epoch 13\n",
      "06/09/2019 10:23:46 - INFO - run_child_finetuning -   Evaluating on train set...\n",
      "06/09/2019 10:24:14 - INFO - run_child_finetuning -   ***** Eval results *****\n",
      "06/09/2019 10:24:14 - INFO - run_child_finetuning -     eval_accuracy = 0.4223090277777778\n",
      "06/09/2019 10:24:14 - INFO - run_child_finetuning -     eval_loss = 1.3420454674296909\n",
      "06/09/2019 10:24:14 - INFO - run_child_finetuning -   Evaluating on valid set...\n",
      "06/09/2019 10:24:42 - INFO - run_child_finetuning -   ***** Eval results *****\n",
      "06/09/2019 10:24:42 - INFO - run_child_finetuning -     eval_accuracy = 0.4110243055555556\n",
      "06/09/2019 10:24:42 - INFO - run_child_finetuning -     eval_loss = 1.3549408475557962\n",
      "\n",
      "\n",
      "\n",
      "\n",
      "Epoch:  13%|█▎        | 13/100 [14:20<1:35:45, 66.04s/it]\u001b[A\u001b[A\u001b[A\u001b[A"
     ]
    },
    {
     "name": "stdout",
     "output_type": "stream",
     "text": [
      "global_step 5000, lr = 0.000054\n"
     ]
    },
    {
     "name": "stderr",
     "output_type": "stream",
     "text": [
      "06/09/2019 10:24:52 - INFO - run_child_finetuning -   Epoch 14\n",
      "06/09/2019 10:24:52 - INFO - run_child_finetuning -   Evaluating on train set...\n",
      "06/09/2019 10:25:20 - INFO - run_child_finetuning -   ***** Eval results *****\n",
      "06/09/2019 10:25:20 - INFO - run_child_finetuning -     eval_accuracy = 0.4223090277777778\n",
      "06/09/2019 10:25:20 - INFO - run_child_finetuning -     eval_loss = 1.3357309381167093\n",
      "06/09/2019 10:25:20 - INFO - run_child_finetuning -   Evaluating on valid set...\n",
      "06/09/2019 10:25:48 - INFO - run_child_finetuning -   ***** Eval results *****\n",
      "06/09/2019 10:25:48 - INFO - run_child_finetuning -     eval_accuracy = 0.4110243055555556\n",
      "06/09/2019 10:25:48 - INFO - run_child_finetuning -     eval_loss = 1.3490168280071682\n",
      "\n",
      "\n",
      "\n",
      "\n",
      "Epoch:  14%|█▍        | 14/100 [15:26<1:34:36, 66.01s/it]\u001b[A\u001b[A\u001b[A\u001b[A06/09/2019 10:25:58 - INFO - run_child_finetuning -   Epoch 15\n",
      "06/09/2019 10:25:58 - INFO - run_child_finetuning -   Evaluating on train set...\n",
      "06/09/2019 10:26:26 - INFO - run_child_finetuning -   ***** Eval results *****\n",
      "06/09/2019 10:26:26 - INFO - run_child_finetuning -     eval_accuracy = 0.4223090277777778\n",
      "06/09/2019 10:26:26 - INFO - run_child_finetuning -     eval_loss = 1.3257557378874885\n",
      "06/09/2019 10:26:26 - INFO - run_child_finetuning -   Evaluating on valid set...\n",
      "06/09/2019 10:26:54 - INFO - run_child_finetuning -   ***** Eval results *****\n",
      "06/09/2019 10:26:54 - INFO - run_child_finetuning -     eval_accuracy = 0.4110243055555556\n",
      "06/09/2019 10:26:54 - INFO - run_child_finetuning -     eval_loss = 1.3387107451756795\n",
      "\n",
      "\n",
      "\n",
      "\n",
      "Epoch:  15%|█▌        | 15/100 [16:32<1:33:27, 65.98s/it]\u001b[A\u001b[A\u001b[A\u001b[A06/09/2019 10:27:04 - INFO - run_child_finetuning -   Epoch 16\n",
      "06/09/2019 10:27:04 - INFO - run_child_finetuning -   Evaluating on train set...\n",
      "06/09/2019 10:27:32 - INFO - run_child_finetuning -   ***** Eval results *****\n",
      "06/09/2019 10:27:32 - INFO - run_child_finetuning -     eval_accuracy = 0.4435763888888889\n",
      "06/09/2019 10:27:32 - INFO - run_child_finetuning -     eval_loss = 1.3156095531251695\n",
      "06/09/2019 10:27:32 - INFO - run_child_finetuning -   Evaluating on valid set...\n",
      "06/09/2019 10:28:00 - INFO - run_child_finetuning -   ***** Eval results *****\n",
      "06/09/2019 10:28:00 - INFO - run_child_finetuning -     eval_accuracy = 0.4318576388888889\n",
      "06/09/2019 10:28:00 - INFO - run_child_finetuning -     eval_loss = 1.328736596637302\n",
      "\n",
      "\n",
      "\n",
      "\n",
      "Epoch:  16%|█▌        | 16/100 [17:38<1:32:21, 65.97s/it]\u001b[A\u001b[A\u001b[A\u001b[A"
     ]
    },
    {
     "name": "stdout",
     "output_type": "stream",
     "text": [
      "global_step 6000, lr = 0.000044\n"
     ]
    },
    {
     "name": "stderr",
     "output_type": "stream",
     "text": [
      "06/09/2019 10:28:10 - INFO - run_child_finetuning -   Epoch 17\n",
      "06/09/2019 10:28:10 - INFO - run_child_finetuning -   Evaluating on train set...\n",
      "06/09/2019 10:28:38 - INFO - run_child_finetuning -   ***** Eval results *****\n",
      "06/09/2019 10:28:38 - INFO - run_child_finetuning -     eval_accuracy = 0.44973958333333336\n",
      "06/09/2019 10:28:38 - INFO - run_child_finetuning -     eval_loss = 1.3007791850301955\n",
      "06/09/2019 10:28:38 - INFO - run_child_finetuning -   Evaluating on valid set...\n",
      "06/09/2019 10:29:06 - INFO - run_child_finetuning -   ***** Eval results *****\n",
      "06/09/2019 10:29:06 - INFO - run_child_finetuning -     eval_accuracy = 0.43914930555555554\n",
      "06/09/2019 10:29:06 - INFO - run_child_finetuning -     eval_loss = 1.314843883779314\n",
      "\n",
      "\n",
      "\n",
      "\n",
      "Epoch:  17%|█▋        | 17/100 [18:44<1:31:17, 65.99s/it]\u001b[A\u001b[A\u001b[A\u001b[A06/09/2019 10:29:17 - INFO - run_child_finetuning -   Epoch 18\n",
      "06/09/2019 10:29:17 - INFO - run_child_finetuning -   Evaluating on train set...\n",
      "06/09/2019 10:29:45 - INFO - run_child_finetuning -   ***** Eval results *****\n",
      "06/09/2019 10:29:45 - INFO - run_child_finetuning -     eval_accuracy = 0.44973958333333336\n",
      "06/09/2019 10:29:45 - INFO - run_child_finetuning -     eval_loss = 1.2931998319096036\n",
      "06/09/2019 10:29:45 - INFO - run_child_finetuning -   Evaluating on valid set...\n",
      "06/09/2019 10:30:12 - INFO - run_child_finetuning -   ***** Eval results *****\n",
      "06/09/2019 10:30:12 - INFO - run_child_finetuning -     eval_accuracy = 0.43914930555555554\n",
      "06/09/2019 10:30:12 - INFO - run_child_finetuning -     eval_loss = 1.3075149999724494\n",
      "\n",
      "\n",
      "\n",
      "\n",
      "Epoch:  18%|█▊        | 18/100 [19:51<1:30:30, 66.23s/it]\u001b[A\u001b[A\u001b[A\u001b[A06/09/2019 10:30:23 - INFO - run_child_finetuning -   Epoch 19\n",
      "06/09/2019 10:30:23 - INFO - run_child_finetuning -   Evaluating on train set...\n",
      "06/09/2019 10:30:51 - INFO - run_child_finetuning -   ***** Eval results *****\n",
      "06/09/2019 10:30:51 - INFO - run_child_finetuning -     eval_accuracy = 0.44973958333333336\n",
      "06/09/2019 10:30:51 - INFO - run_child_finetuning -     eval_loss = 1.2879919780625237\n",
      "06/09/2019 10:30:51 - INFO - run_child_finetuning -   Evaluating on valid set...\n",
      "06/09/2019 10:31:18 - INFO - run_child_finetuning -   ***** Eval results *****\n",
      "06/09/2019 10:31:18 - INFO - run_child_finetuning -     eval_accuracy = 0.43914930555555554\n",
      "06/09/2019 10:31:18 - INFO - run_child_finetuning -     eval_loss = 1.30219263765547\n",
      "\n",
      "\n",
      "\n",
      "\n",
      "Epoch:  19%|█▉        | 19/100 [20:57<1:29:20, 66.18s/it]\u001b[A\u001b[A\u001b[A\u001b[A"
     ]
    },
    {
     "name": "stdout",
     "output_type": "stream",
     "text": [
      "global_step 7000, lr = 0.000035\n"
     ]
    },
    {
     "name": "stderr",
     "output_type": "stream",
     "text": [
      "06/09/2019 10:31:27 - INFO - run_child_finetuning -   Epoch 20\n",
      "06/09/2019 10:31:27 - INFO - run_child_finetuning -   Evaluating on train set...\n",
      "06/09/2019 10:31:55 - INFO - run_child_finetuning -   ***** Eval results *****\n",
      "06/09/2019 10:31:55 - INFO - run_child_finetuning -     eval_accuracy = 0.44973958333333336\n",
      "06/09/2019 10:31:55 - INFO - run_child_finetuning -     eval_loss = 1.2851258847448561\n",
      "06/09/2019 10:31:55 - INFO - run_child_finetuning -   Evaluating on valid set...\n",
      "06/09/2019 10:32:24 - INFO - run_child_finetuning -   ***** Eval results *****\n",
      "06/09/2019 10:32:24 - INFO - run_child_finetuning -     eval_accuracy = 0.43914930555555554\n",
      "06/09/2019 10:32:24 - INFO - run_child_finetuning -     eval_loss = 1.2990937895245023\n",
      "\n",
      "\n",
      "\n",
      "\n",
      "Epoch:  20%|██        | 20/100 [22:02<1:27:51, 65.89s/it]\u001b[A\u001b[A\u001b[A\u001b[A06/09/2019 10:32:32 - INFO - run_child_finetuning -   Epoch 21\n",
      "06/09/2019 10:32:32 - INFO - run_child_finetuning -   Evaluating on train set...\n",
      "06/09/2019 10:33:00 - INFO - run_child_finetuning -   ***** Eval results *****\n",
      "06/09/2019 10:33:00 - INFO - run_child_finetuning -     eval_accuracy = 0.44973958333333336\n",
      "06/09/2019 10:33:00 - INFO - run_child_finetuning -     eval_loss = 1.282910199960073\n",
      "06/09/2019 10:33:00 - INFO - run_child_finetuning -   Evaluating on valid set...\n",
      "06/09/2019 10:33:28 - INFO - run_child_finetuning -   ***** Eval results *****\n",
      "06/09/2019 10:33:28 - INFO - run_child_finetuning -     eval_accuracy = 0.43914930555555554\n",
      "06/09/2019 10:33:28 - INFO - run_child_finetuning -     eval_loss = 1.296793986691369\n",
      "\n",
      "\n",
      "\n",
      "\n",
      "Epoch:  21%|██        | 21/100 [23:06<1:26:04, 65.38s/it]\u001b[A\u001b[A\u001b[A\u001b[A06/09/2019 10:33:36 - INFO - run_child_finetuning -   Epoch 22\n",
      "06/09/2019 10:33:36 - INFO - run_child_finetuning -   Evaluating on train set...\n",
      "06/09/2019 10:34:04 - INFO - run_child_finetuning -   ***** Eval results *****\n",
      "06/09/2019 10:34:04 - INFO - run_child_finetuning -     eval_accuracy = 0.44973958333333336\n",
      "06/09/2019 10:34:04 - INFO - run_child_finetuning -     eval_loss = 1.281203603744507\n",
      "06/09/2019 10:34:04 - INFO - run_child_finetuning -   Evaluating on valid set...\n",
      "06/09/2019 10:34:32 - INFO - run_child_finetuning -   ***** Eval results *****\n",
      "06/09/2019 10:34:32 - INFO - run_child_finetuning -     eval_accuracy = 0.43914930555555554\n",
      "06/09/2019 10:34:32 - INFO - run_child_finetuning -     eval_loss = 1.2950837108823987\n",
      "\n",
      "\n",
      "\n",
      "\n",
      "Epoch:  22%|██▏       | 22/100 [24:10<1:24:31, 65.02s/it]\u001b[A\u001b[A\u001b[A\u001b[A"
     ]
    },
    {
     "name": "stdout",
     "output_type": "stream",
     "text": [
      "global_step 8000, lr = 0.000026\n"
     ]
    },
    {
     "name": "stderr",
     "output_type": "stream",
     "text": [
      "06/09/2019 10:34:41 - INFO - run_child_finetuning -   Epoch 23\n",
      "06/09/2019 10:34:41 - INFO - run_child_finetuning -   Evaluating on train set...\n",
      "06/09/2019 10:35:08 - INFO - run_child_finetuning -   ***** Eval results *****\n",
      "06/09/2019 10:35:08 - INFO - run_child_finetuning -     eval_accuracy = 0.44973958333333336\n",
      "06/09/2019 10:35:08 - INFO - run_child_finetuning -     eval_loss = 1.2800932976934645\n",
      "06/09/2019 10:35:08 - INFO - run_child_finetuning -   Evaluating on valid set...\n",
      "06/09/2019 10:35:36 - INFO - run_child_finetuning -   ***** Eval results *****\n",
      "06/09/2019 10:35:36 - INFO - run_child_finetuning -     eval_accuracy = 0.43914930555555554\n",
      "06/09/2019 10:35:36 - INFO - run_child_finetuning -     eval_loss = 1.2938868072297838\n",
      "\n",
      "\n",
      "\n",
      "\n",
      "Epoch:  23%|██▎       | 23/100 [25:14<1:23:07, 64.77s/it]\u001b[A\u001b[A\u001b[A\u001b[A06/09/2019 10:35:45 - INFO - run_child_finetuning -   Epoch 24\n",
      "06/09/2019 10:35:45 - INFO - run_child_finetuning -   Evaluating on train set...\n",
      "06/09/2019 10:36:13 - INFO - run_child_finetuning -   ***** Eval results *****\n",
      "06/09/2019 10:36:13 - INFO - run_child_finetuning -     eval_accuracy = 0.44973958333333336\n",
      "06/09/2019 10:36:13 - INFO - run_child_finetuning -     eval_loss = 1.2789997299512228\n",
      "06/09/2019 10:36:13 - INFO - run_child_finetuning -   Evaluating on valid set...\n",
      "06/09/2019 10:36:41 - INFO - run_child_finetuning -   ***** Eval results *****\n",
      "06/09/2019 10:36:41 - INFO - run_child_finetuning -     eval_accuracy = 0.43914930555555554\n",
      "06/09/2019 10:36:41 - INFO - run_child_finetuning -     eval_loss = 1.2929178635279337\n",
      "\n",
      "\n",
      "\n",
      "\n",
      "Epoch:  24%|██▍       | 24/100 [26:19<1:22:02, 64.77s/it]\u001b[A\u001b[A\u001b[A\u001b[A06/09/2019 10:36:51 - INFO - run_child_finetuning -   Epoch 25\n",
      "06/09/2019 10:36:51 - INFO - run_child_finetuning -   Evaluating on train set...\n",
      "06/09/2019 10:37:19 - INFO - run_child_finetuning -   ***** Eval results *****\n",
      "06/09/2019 10:37:19 - INFO - run_child_finetuning -     eval_accuracy = 0.44973958333333336\n",
      "06/09/2019 10:37:19 - INFO - run_child_finetuning -     eval_loss = 1.2782557209332783\n",
      "06/09/2019 10:37:19 - INFO - run_child_finetuning -   Evaluating on valid set...\n",
      "06/09/2019 10:37:47 - INFO - run_child_finetuning -   ***** Eval results *****\n",
      "06/09/2019 10:37:47 - INFO - run_child_finetuning -     eval_accuracy = 0.43914930555555554\n",
      "06/09/2019 10:37:47 - INFO - run_child_finetuning -     eval_loss = 1.2921040852864583\n",
      "\n",
      "\n",
      "\n",
      "\n",
      "Epoch:  25%|██▌       | 25/100 [27:25<1:21:25, 65.14s/it]\u001b[A\u001b[A\u001b[A\u001b[A"
     ]
    },
    {
     "name": "stdout",
     "output_type": "stream",
     "text": [
      "global_step 9000, lr = 0.000017\n"
     ]
    },
    {
     "name": "stderr",
     "output_type": "stream",
     "text": [
      "06/09/2019 10:37:57 - INFO - run_child_finetuning -   Epoch 26\n",
      "06/09/2019 10:37:57 - INFO - run_child_finetuning -   Evaluating on train set...\n",
      "06/09/2019 10:38:25 - INFO - run_child_finetuning -   ***** Eval results *****\n",
      "06/09/2019 10:38:25 - INFO - run_child_finetuning -     eval_accuracy = 0.44973958333333336\n",
      "06/09/2019 10:38:25 - INFO - run_child_finetuning -     eval_loss = 1.2780342843797472\n",
      "06/09/2019 10:38:25 - INFO - run_child_finetuning -   Evaluating on valid set...\n",
      "06/09/2019 10:38:53 - INFO - run_child_finetuning -   ***** Eval results *****\n",
      "06/09/2019 10:38:53 - INFO - run_child_finetuning -     eval_accuracy = 0.43914930555555554\n",
      "06/09/2019 10:38:53 - INFO - run_child_finetuning -     eval_loss = 1.2919086231125725\n",
      "\n",
      "\n",
      "\n",
      "\n",
      "Epoch:  26%|██▌       | 26/100 [28:31<1:20:44, 65.46s/it]\u001b[A\u001b[A\u001b[A\u001b[A06/09/2019 10:39:04 - INFO - run_child_finetuning -   Epoch 27\n",
      "06/09/2019 10:39:04 - INFO - run_child_finetuning -   Evaluating on train set...\n",
      "06/09/2019 10:39:31 - INFO - run_child_finetuning -   ***** Eval results *****\n",
      "06/09/2019 10:39:31 - INFO - run_child_finetuning -     eval_accuracy = 0.4519097222222222\n",
      "06/09/2019 10:39:31 - INFO - run_child_finetuning -     eval_loss = 1.2777638885709974\n",
      "06/09/2019 10:39:31 - INFO - run_child_finetuning -   Evaluating on valid set...\n",
      "06/09/2019 10:39:59 - INFO - run_child_finetuning -   ***** Eval results *****\n",
      "06/09/2019 10:39:59 - INFO - run_child_finetuning -     eval_accuracy = 0.43697916666666664\n",
      "06/09/2019 10:39:59 - INFO - run_child_finetuning -     eval_loss = 1.291655433177948\n",
      "\n",
      "\n",
      "\n",
      "\n",
      "Epoch:  27%|██▋       | 27/100 [29:37<1:19:49, 65.62s/it]\u001b[A\u001b[A\u001b[A\u001b[A"
     ]
    },
    {
     "name": "stdout",
     "output_type": "stream",
     "text": [
      "global_step 10000, lr = 0.000007\n"
     ]
    },
    {
     "name": "stderr",
     "output_type": "stream",
     "text": [
      "06/09/2019 10:40:10 - INFO - run_child_finetuning -   Epoch 28\n",
      "06/09/2019 10:40:10 - INFO - run_child_finetuning -   Evaluating on train set...\n",
      "06/09/2019 10:40:38 - INFO - run_child_finetuning -   ***** Eval results *****\n",
      "06/09/2019 10:40:38 - INFO - run_child_finetuning -     eval_accuracy = 0.4519097222222222\n",
      "06/09/2019 10:40:38 - INFO - run_child_finetuning -     eval_loss = 1.277630979484982\n",
      "06/09/2019 10:40:38 - INFO - run_child_finetuning -   Evaluating on valid set...\n",
      "06/09/2019 10:41:06 - INFO - run_child_finetuning -   ***** Eval results *****\n",
      "06/09/2019 10:41:06 - INFO - run_child_finetuning -     eval_accuracy = 0.43697916666666664\n",
      "06/09/2019 10:41:06 - INFO - run_child_finetuning -     eval_loss = 1.2915024439493814\n",
      "\n",
      "\n",
      "\n",
      "\n",
      "Epoch:  28%|██▊       | 28/100 [30:44<1:19:02, 65.87s/it]\u001b[A\u001b[A\u001b[A\u001b[A06/09/2019 10:41:16 - INFO - run_child_finetuning -   Epoch 29\n",
      "06/09/2019 10:41:16 - INFO - run_child_finetuning -   Evaluating on train set...\n",
      "06/09/2019 10:41:44 - INFO - run_child_finetuning -   ***** Eval results *****\n",
      "06/09/2019 10:41:44 - INFO - run_child_finetuning -     eval_accuracy = 0.4519097222222222\n",
      "06/09/2019 10:41:44 - INFO - run_child_finetuning -     eval_loss = 1.2776025176048278\n",
      "06/09/2019 10:41:44 - INFO - run_child_finetuning -   Evaluating on valid set...\n",
      "06/09/2019 10:42:12 - INFO - run_child_finetuning -   ***** Eval results *****\n",
      "06/09/2019 10:42:12 - INFO - run_child_finetuning -     eval_accuracy = 0.43697916666666664\n",
      "06/09/2019 10:42:12 - INFO - run_child_finetuning -     eval_loss = 1.291484334733751\n",
      "\n",
      "\n",
      "\n",
      "\n",
      "Epoch:  29%|██▉       | 29/100 [31:50<1:18:11, 66.08s/it]\u001b[A\u001b[A\u001b[A\u001b[A06/09/2019 10:42:23 - INFO - run_child_finetuning -   Epoch 30\n",
      "06/09/2019 10:42:23 - INFO - run_child_finetuning -   Evaluating on train set...\n",
      "06/09/2019 10:42:51 - INFO - run_child_finetuning -   ***** Eval results *****\n",
      "06/09/2019 10:42:51 - INFO - run_child_finetuning -     eval_accuracy = 0.4519097222222222\n",
      "06/09/2019 10:42:51 - INFO - run_child_finetuning -     eval_loss = 1.2775944696532355\n",
      "06/09/2019 10:42:51 - INFO - run_child_finetuning -   Evaluating on valid set...\n",
      "06/09/2019 10:43:19 - INFO - run_child_finetuning -   ***** Eval results *****\n",
      "06/09/2019 10:43:19 - INFO - run_child_finetuning -     eval_accuracy = 0.43697916666666664\n",
      "06/09/2019 10:43:19 - INFO - run_child_finetuning -     eval_loss = 1.291474199295044\n",
      "\n",
      "\n",
      "\n",
      "\n",
      "Epoch:  30%|███       | 30/100 [32:57<1:17:20, 66.29s/it]\u001b[A\u001b[A\u001b[A\u001b[A"
     ]
    },
    {
     "name": "stdout",
     "output_type": "stream",
     "text": [
      "global_step 11000, lr = -0.000002\n"
     ]
    },
    {
     "name": "stderr",
     "output_type": "stream",
     "text": [
      "06/09/2019 10:43:30 - INFO - run_child_finetuning -   Epoch 31\n",
      "06/09/2019 10:43:30 - INFO - run_child_finetuning -   Evaluating on train set...\n",
      "06/09/2019 10:43:58 - INFO - run_child_finetuning -   ***** Eval results *****\n",
      "06/09/2019 10:43:58 - INFO - run_child_finetuning -     eval_accuracy = 0.4519097222222222\n",
      "06/09/2019 10:43:58 - INFO - run_child_finetuning -     eval_loss = 1.2775861925548977\n",
      "06/09/2019 10:43:58 - INFO - run_child_finetuning -   Evaluating on valid set...\n",
      "06/09/2019 10:44:25 - INFO - run_child_finetuning -   ***** Eval results *****\n",
      "06/09/2019 10:44:25 - INFO - run_child_finetuning -     eval_accuracy = 0.43697916666666664\n",
      "06/09/2019 10:44:25 - INFO - run_child_finetuning -     eval_loss = 1.2914685328801474\n",
      "\n",
      "\n",
      "\n",
      "\n",
      "Epoch:  31%|███       | 31/100 [34:03<1:16:15, 66.31s/it]\u001b[A\u001b[A\u001b[A\u001b[A06/09/2019 10:44:36 - INFO - run_child_finetuning -   Epoch 32\n",
      "06/09/2019 10:44:36 - INFO - run_child_finetuning -   Evaluating on train set...\n",
      "06/09/2019 10:45:04 - INFO - run_child_finetuning -   ***** Eval results *****\n",
      "06/09/2019 10:45:04 - INFO - run_child_finetuning -     eval_accuracy = 0.4519097222222222\n",
      "06/09/2019 10:45:04 - INFO - run_child_finetuning -     eval_loss = 1.2775551716486613\n",
      "06/09/2019 10:45:04 - INFO - run_child_finetuning -   Evaluating on valid set...\n",
      "06/09/2019 10:45:32 - INFO - run_child_finetuning -   ***** Eval results *****\n",
      "06/09/2019 10:45:32 - INFO - run_child_finetuning -     eval_accuracy = 0.43697916666666664\n",
      "06/09/2019 10:45:32 - INFO - run_child_finetuning -     eval_loss = 1.291435596677992\n",
      "\n",
      "\n",
      "\n",
      "\n",
      "Epoch:  32%|███▏      | 32/100 [35:10<1:15:10, 66.34s/it]\u001b[A\u001b[A\u001b[A\u001b[A06/09/2019 10:45:42 - INFO - run_child_finetuning -   Epoch 33\n",
      "06/09/2019 10:45:42 - INFO - run_child_finetuning -   Evaluating on train set...\n",
      "06/09/2019 10:46:10 - INFO - run_child_finetuning -   ***** Eval results *****\n",
      "06/09/2019 10:46:10 - INFO - run_child_finetuning -     eval_accuracy = 0.4519097222222222\n",
      "06/09/2019 10:46:10 - INFO - run_child_finetuning -     eval_loss = 1.2774020512898763\n",
      "06/09/2019 10:46:10 - INFO - run_child_finetuning -   Evaluating on valid set...\n",
      "06/09/2019 10:46:37 - INFO - run_child_finetuning -   ***** Eval results *****\n",
      "06/09/2019 10:46:37 - INFO - run_child_finetuning -     eval_accuracy = 0.43697916666666664\n",
      "06/09/2019 10:46:37 - INFO - run_child_finetuning -     eval_loss = 1.2912689606348673\n",
      "\n",
      "\n",
      "\n",
      "\n",
      "Epoch:  33%|███▎      | 33/100 [36:15<1:13:49, 66.11s/it]\u001b[A\u001b[A\u001b[A\u001b[A"
     ]
    },
    {
     "name": "stdout",
     "output_type": "stream",
     "text": [
      "global_step 12000, lr = -0.000011\n"
     ]
    },
    {
     "name": "stderr",
     "output_type": "stream",
     "text": [
      "06/09/2019 10:46:47 - INFO - run_child_finetuning -   Epoch 34\n",
      "06/09/2019 10:46:47 - INFO - run_child_finetuning -   Evaluating on train set...\n",
      "06/09/2019 10:47:14 - INFO - run_child_finetuning -   ***** Eval results *****\n",
      "06/09/2019 10:47:14 - INFO - run_child_finetuning -     eval_accuracy = 0.4519097222222222\n",
      "06/09/2019 10:47:14 - INFO - run_child_finetuning -     eval_loss = 1.2771676964230008\n",
      "06/09/2019 10:47:14 - INFO - run_child_finetuning -   Evaluating on valid set...\n",
      "06/09/2019 10:47:42 - INFO - run_child_finetuning -   ***** Eval results *****\n",
      "06/09/2019 10:47:42 - INFO - run_child_finetuning -     eval_accuracy = 0.43697916666666664\n",
      "06/09/2019 10:47:42 - INFO - run_child_finetuning -     eval_loss = 1.2910632411638896\n",
      "\n",
      "\n",
      "\n",
      "\n",
      "Epoch:  34%|███▍      | 34/100 [37:20<1:12:16, 65.70s/it]\u001b[A\u001b[A\u001b[A\u001b[A06/09/2019 10:47:54 - INFO - run_child_finetuning -   Epoch 35\n",
      "06/09/2019 10:47:54 - INFO - run_child_finetuning -   Evaluating on train set...\n",
      "06/09/2019 10:48:21 - INFO - run_child_finetuning -   ***** Eval results *****\n",
      "06/09/2019 10:48:21 - INFO - run_child_finetuning -     eval_accuracy = 0.4519097222222222\n",
      "06/09/2019 10:48:21 - INFO - run_child_finetuning -     eval_loss = 1.2766649497879876\n",
      "06/09/2019 10:48:22 - INFO - run_child_finetuning -   Evaluating on valid set...\n",
      "06/09/2019 10:48:49 - INFO - run_child_finetuning -   ***** Eval results *****\n",
      "06/09/2019 10:48:49 - INFO - run_child_finetuning -     eval_accuracy = 0.43697916666666664\n",
      "06/09/2019 10:48:49 - INFO - run_child_finetuning -     eval_loss = 1.290544174777137\n",
      "\n",
      "\n",
      "\n",
      "\n",
      "Epoch:  35%|███▌      | 35/100 [38:27<1:11:39, 66.14s/it]\u001b[A\u001b[A\u001b[A\u001b[A06/09/2019 10:48:58 - INFO - run_child_finetuning -   Epoch 36\n",
      "06/09/2019 10:48:58 - INFO - run_child_finetuning -   Evaluating on train set...\n",
      "06/09/2019 10:49:26 - INFO - run_child_finetuning -   ***** Eval results *****\n",
      "06/09/2019 10:49:26 - INFO - run_child_finetuning -     eval_accuracy = 0.4519097222222222\n",
      "06/09/2019 10:49:26 - INFO - run_child_finetuning -     eval_loss = 1.276163759496477\n",
      "06/09/2019 10:49:26 - INFO - run_child_finetuning -   Evaluating on valid set...\n",
      "06/09/2019 10:49:53 - INFO - run_child_finetuning -   ***** Eval results *****\n",
      "06/09/2019 10:49:53 - INFO - run_child_finetuning -     eval_accuracy = 0.43697916666666664\n",
      "06/09/2019 10:49:53 - INFO - run_child_finetuning -     eval_loss = 1.2901054302851358\n",
      "\n",
      "\n",
      "\n",
      "\n",
      "Epoch:  36%|███▌      | 36/100 [39:32<1:09:55, 65.56s/it]\u001b[A\u001b[A\u001b[A\u001b[A"
     ]
    },
    {
     "name": "stdout",
     "output_type": "stream",
     "text": [
      "global_step 13000, lr = -0.000020\n"
     ]
    },
    {
     "name": "stderr",
     "output_type": "stream",
     "text": [
      "06/09/2019 10:50:02 - INFO - run_child_finetuning -   Epoch 37\n",
      "06/09/2019 10:50:02 - INFO - run_child_finetuning -   Evaluating on train set...\n",
      "06/09/2019 10:50:30 - INFO - run_child_finetuning -   ***** Eval results *****\n",
      "06/09/2019 10:50:30 - INFO - run_child_finetuning -     eval_accuracy = 0.4519097222222222\n",
      "06/09/2019 10:50:30 - INFO - run_child_finetuning -     eval_loss = 1.275437773598565\n",
      "06/09/2019 10:50:30 - INFO - run_child_finetuning -   Evaluating on valid set...\n",
      "06/09/2019 10:50:58 - INFO - run_child_finetuning -   ***** Eval results *****\n",
      "06/09/2019 10:50:58 - INFO - run_child_finetuning -     eval_accuracy = 0.43697916666666664\n",
      "06/09/2019 10:50:58 - INFO - run_child_finetuning -     eval_loss = 1.2893267750740052\n",
      "\n",
      "\n",
      "\n",
      "\n",
      "Epoch:  37%|███▋      | 37/100 [40:36<1:08:23, 65.14s/it]\u001b[A\u001b[A\u001b[A\u001b[A06/09/2019 10:51:06 - INFO - run_child_finetuning -   Epoch 38\n",
      "06/09/2019 10:51:06 - INFO - run_child_finetuning -   Evaluating on train set...\n",
      "06/09/2019 10:51:34 - INFO - run_child_finetuning -   ***** Eval results *****\n",
      "06/09/2019 10:51:34 - INFO - run_child_finetuning -     eval_accuracy = 0.4519097222222222\n",
      "06/09/2019 10:51:34 - INFO - run_child_finetuning -     eval_loss = 1.2746005985471938\n",
      "06/09/2019 10:51:34 - INFO - run_child_finetuning -   Evaluating on valid set...\n",
      "06/09/2019 10:52:02 - INFO - run_child_finetuning -   ***** Eval results *****\n",
      "06/09/2019 10:52:02 - INFO - run_child_finetuning -     eval_accuracy = 0.43697916666666664\n",
      "06/09/2019 10:52:02 - INFO - run_child_finetuning -     eval_loss = 1.2885264688067966\n",
      "\n",
      "\n",
      "\n",
      "\n",
      "Epoch:  38%|███▊      | 38/100 [41:40<1:07:01, 64.87s/it]\u001b[A\u001b[A\u001b[A\u001b[A"
     ]
    },
    {
     "name": "stdout",
     "output_type": "stream",
     "text": [
      "global_step 14000, lr = -0.000030\n"
     ]
    },
    {
     "name": "stderr",
     "output_type": "stream",
     "text": [
      "06/09/2019 10:52:10 - INFO - run_child_finetuning -   Epoch 39\n",
      "06/09/2019 10:52:10 - INFO - run_child_finetuning -   Evaluating on train set...\n",
      "06/09/2019 10:52:38 - INFO - run_child_finetuning -   ***** Eval results *****\n",
      "06/09/2019 10:52:38 - INFO - run_child_finetuning -     eval_accuracy = 0.4519097222222222\n",
      "06/09/2019 10:52:38 - INFO - run_child_finetuning -     eval_loss = 1.2734754257731968\n",
      "06/09/2019 10:52:38 - INFO - run_child_finetuning -   Evaluating on valid set...\n",
      "06/09/2019 10:53:06 - INFO - run_child_finetuning -   ***** Eval results *****\n",
      "06/09/2019 10:53:06 - INFO - run_child_finetuning -     eval_accuracy = 0.43697916666666664\n",
      "06/09/2019 10:53:06 - INFO - run_child_finetuning -     eval_loss = 1.28737782769733\n",
      "\n",
      "\n",
      "\n",
      "\n",
      "Epoch:  39%|███▉      | 39/100 [42:44<1:05:48, 64.74s/it]\u001b[A\u001b[A\u001b[A\u001b[A06/09/2019 10:53:18 - INFO - run_child_finetuning -   Epoch 40\n",
      "06/09/2019 10:53:18 - INFO - run_child_finetuning -   Evaluating on train set...\n",
      "06/09/2019 10:53:46 - INFO - run_child_finetuning -   ***** Eval results *****\n",
      "06/09/2019 10:53:46 - INFO - run_child_finetuning -     eval_accuracy = 0.44973958333333336\n",
      "06/09/2019 10:53:46 - INFO - run_child_finetuning -     eval_loss = 1.2718001670307584\n",
      "06/09/2019 10:53:46 - INFO - run_child_finetuning -   Evaluating on valid set...\n",
      "06/09/2019 10:54:14 - INFO - run_child_finetuning -   ***** Eval results *****\n",
      "06/09/2019 10:54:14 - INFO - run_child_finetuning -     eval_accuracy = 0.43914930555555554\n",
      "06/09/2019 10:54:14 - INFO - run_child_finetuning -     eval_loss = 1.2856513102849325\n",
      "\n",
      "\n",
      "\n",
      "\n",
      "Epoch:  40%|████      | 40/100 [43:52<1:05:42, 65.71s/it]\u001b[A\u001b[A\u001b[A\u001b[A06/09/2019 10:54:25 - INFO - run_child_finetuning -   Epoch 41\n",
      "06/09/2019 10:54:25 - INFO - run_child_finetuning -   Evaluating on train set...\n",
      "06/09/2019 10:54:53 - INFO - run_child_finetuning -   ***** Eval results *****\n",
      "06/09/2019 10:54:53 - INFO - run_child_finetuning -     eval_accuracy = 0.4519097222222222\n",
      "06/09/2019 10:54:53 - INFO - run_child_finetuning -     eval_loss = 1.2708097603585986\n",
      "06/09/2019 10:54:53 - INFO - run_child_finetuning -   Evaluating on valid set...\n",
      "06/09/2019 10:55:21 - INFO - run_child_finetuning -   ***** Eval results *****\n",
      "06/09/2019 10:55:21 - INFO - run_child_finetuning -     eval_accuracy = 0.43697916666666664\n",
      "06/09/2019 10:55:21 - INFO - run_child_finetuning -     eval_loss = 1.284542813565996\n",
      "\n",
      "\n",
      "\n",
      "\n",
      "Epoch:  41%|████      | 41/100 [44:59<1:04:51, 65.96s/it]\u001b[A\u001b[A\u001b[A\u001b[A"
     ]
    },
    {
     "name": "stdout",
     "output_type": "stream",
     "text": [
      "global_step 15000, lr = -0.000039\n"
     ]
    },
    {
     "name": "stderr",
     "output_type": "stream",
     "text": [
      "06/09/2019 10:55:31 - INFO - run_child_finetuning -   Epoch 42\n",
      "06/09/2019 10:55:31 - INFO - run_child_finetuning -   Evaluating on train set...\n",
      "06/09/2019 10:55:59 - INFO - run_child_finetuning -   ***** Eval results *****\n",
      "06/09/2019 10:55:59 - INFO - run_child_finetuning -     eval_accuracy = 0.4519097222222222\n",
      "06/09/2019 10:55:59 - INFO - run_child_finetuning -     eval_loss = 1.2693544705708821\n",
      "06/09/2019 10:55:59 - INFO - run_child_finetuning -   Evaluating on valid set...\n",
      "06/09/2019 10:56:27 - INFO - run_child_finetuning -   ***** Eval results *****\n",
      "06/09/2019 10:56:27 - INFO - run_child_finetuning -     eval_accuracy = 0.43697916666666664\n",
      "06/09/2019 10:56:27 - INFO - run_child_finetuning -     eval_loss = 1.2828620976871914\n",
      "\n",
      "\n",
      "\n",
      "\n",
      "Epoch:  42%|████▏     | 42/100 [46:05<1:03:44, 65.93s/it]\u001b[A\u001b[A\u001b[A\u001b[A06/09/2019 10:56:36 - INFO - run_child_finetuning -   Epoch 43\n",
      "06/09/2019 10:56:36 - INFO - run_child_finetuning -   Evaluating on train set...\n",
      "06/09/2019 10:57:03 - INFO - run_child_finetuning -   ***** Eval results *****\n",
      "06/09/2019 10:57:03 - INFO - run_child_finetuning -     eval_accuracy = 0.4509548611111111\n",
      "06/09/2019 10:57:03 - INFO - run_child_finetuning -     eval_loss = 1.2677685194545323\n",
      "06/09/2019 10:57:03 - INFO - run_child_finetuning -   Evaluating on valid set...\n",
      "06/09/2019 10:57:31 - INFO - run_child_finetuning -   ***** Eval results *****\n",
      "06/09/2019 10:57:31 - INFO - run_child_finetuning -     eval_accuracy = 0.4379340277777778\n",
      "06/09/2019 10:57:31 - INFO - run_child_finetuning -     eval_loss = 1.2817622078789606\n",
      "\n",
      "\n",
      "\n",
      "\n",
      "Epoch:  43%|████▎     | 43/100 [47:09<1:02:12, 65.49s/it]\u001b[A\u001b[A\u001b[A\u001b[A06/09/2019 10:57:41 - INFO - run_child_finetuning -   Epoch 44\n",
      "06/09/2019 10:57:41 - INFO - run_child_finetuning -   Evaluating on train set...\n",
      "06/09/2019 10:58:09 - INFO - run_child_finetuning -   ***** Eval results *****\n",
      "06/09/2019 10:58:09 - INFO - run_child_finetuning -     eval_accuracy = 0.4519097222222222\n",
      "06/09/2019 10:58:09 - INFO - run_child_finetuning -     eval_loss = 1.2655644430054558\n",
      "06/09/2019 10:58:09 - INFO - run_child_finetuning -   Evaluating on valid set...\n",
      "06/09/2019 10:58:37 - INFO - run_child_finetuning -   ***** Eval results *****\n",
      "06/09/2019 10:58:37 - INFO - run_child_finetuning -     eval_accuracy = 0.43697916666666664\n",
      "06/09/2019 10:58:37 - INFO - run_child_finetuning -     eval_loss = 1.2792559107144674\n",
      "\n",
      "\n",
      "\n",
      "\n",
      "Epoch:  44%|████▍     | 44/100 [48:15<1:01:08, 65.51s/it]\u001b[A\u001b[A\u001b[A\u001b[A"
     ]
    },
    {
     "name": "stdout",
     "output_type": "stream",
     "text": [
      "global_step 16000, lr = -0.000048\n"
     ]
    },
    {
     "name": "stderr",
     "output_type": "stream",
     "text": [
      "06/09/2019 10:58:47 - INFO - run_child_finetuning -   Epoch 45\n",
      "06/09/2019 10:58:47 - INFO - run_child_finetuning -   Evaluating on train set...\n",
      "06/09/2019 10:59:15 - INFO - run_child_finetuning -   ***** Eval results *****\n",
      "06/09/2019 10:59:15 - INFO - run_child_finetuning -     eval_accuracy = 0.4509548611111111\n",
      "06/09/2019 10:59:15 - INFO - run_child_finetuning -     eval_loss = 1.2655728247430589\n",
      "06/09/2019 10:59:15 - INFO - run_child_finetuning -   Evaluating on valid set...\n",
      "06/09/2019 10:59:43 - INFO - run_child_finetuning -   ***** Eval results *****\n",
      "06/09/2019 10:59:43 - INFO - run_child_finetuning -     eval_accuracy = 0.4379340277777778\n",
      "06/09/2019 10:59:43 - INFO - run_child_finetuning -     eval_loss = 1.2796800454457602\n",
      "\n",
      "\n",
      "\n",
      "\n",
      "Epoch:  45%|████▌     | 45/100 [49:21<1:00:09, 65.63s/it]\u001b[A\u001b[A\u001b[A\u001b[A06/09/2019 10:59:53 - INFO - run_child_finetuning -   Epoch 46\n",
      "06/09/2019 10:59:53 - INFO - run_child_finetuning -   Evaluating on train set...\n",
      "06/09/2019 11:00:21 - INFO - run_child_finetuning -   ***** Eval results *****\n",
      "06/09/2019 11:00:21 - INFO - run_child_finetuning -     eval_accuracy = 0.4519097222222222\n",
      "06/09/2019 11:00:21 - INFO - run_child_finetuning -     eval_loss = 1.2633930643399556\n",
      "06/09/2019 11:00:21 - INFO - run_child_finetuning -   Evaluating on valid set...\n",
      "06/09/2019 11:00:49 - INFO - run_child_finetuning -   ***** Eval results *****\n",
      "06/09/2019 11:00:49 - INFO - run_child_finetuning -     eval_accuracy = 0.43697916666666664\n",
      "06/09/2019 11:00:49 - INFO - run_child_finetuning -     eval_loss = 1.2771886467933655\n",
      "\n",
      "\n",
      "\n",
      "\n",
      "Epoch:  46%|████▌     | 46/100 [50:27<59:10, 65.74s/it]  \u001b[A\u001b[A\u001b[A\u001b[A06/09/2019 11:00:59 - INFO - run_child_finetuning -   Epoch 47\n",
      "06/09/2019 11:00:59 - INFO - run_child_finetuning -   Evaluating on train set...\n",
      "06/09/2019 11:01:27 - INFO - run_child_finetuning -   ***** Eval results *****\n",
      "06/09/2019 11:01:27 - INFO - run_child_finetuning -     eval_accuracy = 0.45078125\n",
      "06/09/2019 11:01:27 - INFO - run_child_finetuning -     eval_loss = 1.2638664881388346\n",
      "06/09/2019 11:01:27 - INFO - run_child_finetuning -   Evaluating on valid set...\n",
      "06/09/2019 11:01:55 - INFO - run_child_finetuning -   ***** Eval results *****\n",
      "06/09/2019 11:01:55 - INFO - run_child_finetuning -     eval_accuracy = 0.4381076388888889\n",
      "06/09/2019 11:01:55 - INFO - run_child_finetuning -     eval_loss = 1.2772795226838853\n",
      "\n",
      "\n",
      "\n",
      "\n",
      "Epoch:  47%|████▋     | 47/100 [51:33<58:08, 65.82s/it]\u001b[A\u001b[A\u001b[A\u001b[A"
     ]
    },
    {
     "name": "stdout",
     "output_type": "stream",
     "text": [
      "global_step 17000, lr = -0.000057\n"
     ]
    },
    {
     "name": "stderr",
     "output_type": "stream",
     "text": [
      "06/09/2019 11:02:05 - INFO - run_child_finetuning -   Epoch 48\n",
      "06/09/2019 11:02:05 - INFO - run_child_finetuning -   Evaluating on train set...\n",
      "06/09/2019 11:02:33 - INFO - run_child_finetuning -   ***** Eval results *****\n",
      "06/09/2019 11:02:33 - INFO - run_child_finetuning -     eval_accuracy = 0.45199652777777777\n",
      "06/09/2019 11:02:33 - INFO - run_child_finetuning -     eval_loss = 1.2638536400265163\n",
      "06/09/2019 11:02:33 - INFO - run_child_finetuning -   Evaluating on valid set...\n",
      "06/09/2019 11:03:00 - INFO - run_child_finetuning -   ***** Eval results *****\n",
      "06/09/2019 11:03:00 - INFO - run_child_finetuning -     eval_accuracy = 0.4368923611111111\n",
      "06/09/2019 11:03:00 - INFO - run_child_finetuning -     eval_loss = 1.2784057392014399\n",
      "\n",
      "\n",
      "\n",
      "\n",
      "Epoch:  48%|████▊     | 48/100 [52:39<57:02, 65.81s/it]\u001b[A\u001b[A\u001b[A\u001b[A06/09/2019 11:03:11 - INFO - run_child_finetuning -   Epoch 49\n",
      "06/09/2019 11:03:11 - INFO - run_child_finetuning -   Evaluating on train set...\n",
      "06/09/2019 11:03:38 - INFO - run_child_finetuning -   ***** Eval results *****\n",
      "06/09/2019 11:03:38 - INFO - run_child_finetuning -     eval_accuracy = 0.44973958333333336\n",
      "06/09/2019 11:03:38 - INFO - run_child_finetuning -     eval_loss = 1.2610097911622788\n",
      "06/09/2019 11:03:38 - INFO - run_child_finetuning -   Evaluating on valid set...\n",
      "06/09/2019 11:04:06 - INFO - run_child_finetuning -   ***** Eval results *****\n",
      "06/09/2019 11:04:06 - INFO - run_child_finetuning -     eval_accuracy = 0.43914930555555554\n",
      "06/09/2019 11:04:06 - INFO - run_child_finetuning -     eval_loss = 1.2743374122513664\n",
      "\n",
      "\n",
      "\n",
      "\n",
      "Epoch:  49%|████▉     | 49/100 [53:44<55:55, 65.80s/it]\u001b[A\u001b[A\u001b[A\u001b[A06/09/2019 11:04:16 - INFO - run_child_finetuning -   Epoch 50\n",
      "06/09/2019 11:04:16 - INFO - run_child_finetuning -   Evaluating on train set...\n",
      "06/09/2019 11:04:44 - INFO - run_child_finetuning -   ***** Eval results *****\n",
      "06/09/2019 11:04:44 - INFO - run_child_finetuning -     eval_accuracy = 0.4509548611111111\n",
      "06/09/2019 11:04:44 - INFO - run_child_finetuning -     eval_loss = 1.2613953351974487\n",
      "06/09/2019 11:04:44 - INFO - run_child_finetuning -   Evaluating on valid set...\n",
      "06/09/2019 11:05:11 - INFO - run_child_finetuning -   ***** Eval results *****\n",
      "06/09/2019 11:05:11 - INFO - run_child_finetuning -     eval_accuracy = 0.4379340277777778\n",
      "06/09/2019 11:05:11 - INFO - run_child_finetuning -     eval_loss = 1.2759553485446506\n",
      "\n",
      "\n",
      "\n",
      "\n",
      "Epoch:  50%|█████     | 50/100 [54:49<54:39, 65.59s/it]\u001b[A\u001b[A\u001b[A\u001b[A"
     ]
    },
    {
     "name": "stdout",
     "output_type": "stream",
     "text": [
      "global_step 18000, lr = -0.000067\n"
     ]
    },
    {
     "name": "stderr",
     "output_type": "stream",
     "text": [
      "06/09/2019 11:05:22 - INFO - run_child_finetuning -   Epoch 51\n",
      "06/09/2019 11:05:22 - INFO - run_child_finetuning -   Evaluating on train set...\n",
      "06/09/2019 11:05:49 - INFO - run_child_finetuning -   ***** Eval results *****\n",
      "06/09/2019 11:05:49 - INFO - run_child_finetuning -     eval_accuracy = 0.4509548611111111\n",
      "06/09/2019 11:05:49 - INFO - run_child_finetuning -     eval_loss = 1.2582731948958503\n",
      "06/09/2019 11:05:49 - INFO - run_child_finetuning -   Evaluating on valid set...\n",
      "06/09/2019 11:06:17 - INFO - run_child_finetuning -   ***** Eval results *****\n",
      "06/09/2019 11:06:17 - INFO - run_child_finetuning -     eval_accuracy = 0.4379340277777778\n",
      "06/09/2019 11:06:17 - INFO - run_child_finetuning -     eval_loss = 1.271828391816881\n",
      "\n",
      "\n",
      "\n",
      "\n",
      "Epoch:  51%|█████     | 51/100 [55:55<53:39, 65.69s/it]\u001b[A\u001b[A\u001b[A\u001b[A06/09/2019 11:06:28 - INFO - run_child_finetuning -   Epoch 52\n",
      "06/09/2019 11:06:28 - INFO - run_child_finetuning -   Evaluating on train set...\n",
      "06/09/2019 11:06:56 - INFO - run_child_finetuning -   ***** Eval results *****\n",
      "06/09/2019 11:06:56 - INFO - run_child_finetuning -     eval_accuracy = 0.4513888888888889\n",
      "06/09/2019 11:06:56 - INFO - run_child_finetuning -     eval_loss = 1.2580342027876112\n",
      "06/09/2019 11:06:56 - INFO - run_child_finetuning -   Evaluating on valid set...\n",
      "06/09/2019 11:07:24 - INFO - run_child_finetuning -   ***** Eval results *****\n",
      "06/09/2019 11:07:24 - INFO - run_child_finetuning -     eval_accuracy = 0.4375\n",
      "06/09/2019 11:07:24 - INFO - run_child_finetuning -     eval_loss = 1.2725122107399836\n",
      "\n",
      "\n",
      "\n",
      "\n",
      "Epoch:  52%|█████▏    | 52/100 [57:03<52:55, 66.15s/it]\u001b[A\u001b[A\u001b[A\u001b[A"
     ]
    },
    {
     "name": "stdout",
     "output_type": "stream",
     "text": [
      "global_step 19000, lr = -0.000076\n"
     ]
    },
    {
     "name": "stderr",
     "output_type": "stream",
     "text": [
      "06/09/2019 11:07:35 - INFO - run_child_finetuning -   Epoch 53\n",
      "06/09/2019 11:07:35 - INFO - run_child_finetuning -   Evaluating on train set...\n",
      "06/09/2019 11:08:03 - INFO - run_child_finetuning -   ***** Eval results *****\n",
      "06/09/2019 11:08:03 - INFO - run_child_finetuning -     eval_accuracy = 0.45078125\n",
      "06/09/2019 11:08:03 - INFO - run_child_finetuning -     eval_loss = 1.2580892933739556\n",
      "06/09/2019 11:08:03 - INFO - run_child_finetuning -   Evaluating on valid set...\n",
      "06/09/2019 11:08:31 - INFO - run_child_finetuning -   ***** Eval results *****\n",
      "06/09/2019 11:08:31 - INFO - run_child_finetuning -     eval_accuracy = 0.4381076388888889\n",
      "06/09/2019 11:08:31 - INFO - run_child_finetuning -     eval_loss = 1.2724553810225592\n",
      "\n",
      "\n",
      "\n",
      "\n",
      "Epoch:  53%|█████▎    | 53/100 [58:09<51:53, 66.24s/it]\u001b[A\u001b[A\u001b[A\u001b[A06/09/2019 11:08:42 - INFO - run_child_finetuning -   Epoch 54\n",
      "06/09/2019 11:08:42 - INFO - run_child_finetuning -   Evaluating on train set...\n",
      "06/09/2019 11:09:10 - INFO - run_child_finetuning -   ***** Eval results *****\n",
      "06/09/2019 11:09:10 - INFO - run_child_finetuning -     eval_accuracy = 0.4519097222222222\n",
      "06/09/2019 11:09:10 - INFO - run_child_finetuning -     eval_loss = 1.2563159465789795\n",
      "06/09/2019 11:09:10 - INFO - run_child_finetuning -   Evaluating on valid set...\n",
      "06/09/2019 11:09:37 - INFO - run_child_finetuning -   ***** Eval results *****\n",
      "06/09/2019 11:09:37 - INFO - run_child_finetuning -     eval_accuracy = 0.43697916666666664\n",
      "06/09/2019 11:09:37 - INFO - run_child_finetuning -     eval_loss = 1.2693641344706217\n",
      "\n",
      "\n",
      "\n",
      "\n",
      "Epoch:  54%|█████▍    | 54/100 [59:16<50:51, 66.34s/it]\u001b[A\u001b[A\u001b[A\u001b[A06/09/2019 11:09:48 - INFO - run_child_finetuning -   Epoch 55\n",
      "06/09/2019 11:09:48 - INFO - run_child_finetuning -   Evaluating on train set...\n",
      "06/09/2019 11:10:16 - INFO - run_child_finetuning -   ***** Eval results *****\n",
      "06/09/2019 11:10:16 - INFO - run_child_finetuning -     eval_accuracy = 0.45069444444444445\n",
      "06/09/2019 11:10:16 - INFO - run_child_finetuning -     eval_loss = 1.2571652372678122\n",
      "06/09/2019 11:10:16 - INFO - run_child_finetuning -   Evaluating on valid set...\n",
      "06/09/2019 11:10:43 - INFO - run_child_finetuning -   ***** Eval results *****\n",
      "06/09/2019 11:10:43 - INFO - run_child_finetuning -     eval_accuracy = 0.43819444444444444\n",
      "06/09/2019 11:10:43 - INFO - run_child_finetuning -     eval_loss = 1.2704107642173768\n",
      "\n",
      "\n",
      "\n",
      "\n",
      "Epoch:  55%|█████▌    | 55/100 [1:00:22<49:40, 66.22s/it]\u001b[A\u001b[A\u001b[A\u001b[A"
     ]
    },
    {
     "name": "stdout",
     "output_type": "stream",
     "text": [
      "global_step 20000, lr = -0.000085\n"
     ]
    },
    {
     "name": "stderr",
     "output_type": "stream",
     "text": [
      "06/09/2019 11:10:54 - INFO - run_child_finetuning -   Epoch 56\n",
      "06/09/2019 11:10:54 - INFO - run_child_finetuning -   Evaluating on train set...\n",
      "06/09/2019 11:11:22 - INFO - run_child_finetuning -   ***** Eval results *****\n",
      "06/09/2019 11:11:22 - INFO - run_child_finetuning -     eval_accuracy = 0.45078125\n",
      "06/09/2019 11:11:22 - INFO - run_child_finetuning -     eval_loss = 1.2557978232701619\n",
      "06/09/2019 11:11:22 - INFO - run_child_finetuning -   Evaluating on valid set...\n",
      "06/09/2019 11:11:49 - INFO - run_child_finetuning -   ***** Eval results *****\n",
      "06/09/2019 11:11:49 - INFO - run_child_finetuning -     eval_accuracy = 0.4381076388888889\n",
      "06/09/2019 11:11:49 - INFO - run_child_finetuning -     eval_loss = 1.2688145054711235\n",
      "\n",
      "\n",
      "\n",
      "\n",
      "Epoch:  56%|█████▌    | 56/100 [1:01:27<48:30, 66.15s/it]\u001b[A\u001b[A\u001b[A\u001b[A06/09/2019 11:12:00 - INFO - run_child_finetuning -   Epoch 57\n",
      "06/09/2019 11:12:00 - INFO - run_child_finetuning -   Evaluating on train set...\n",
      "06/09/2019 11:12:28 - INFO - run_child_finetuning -   ***** Eval results *****\n",
      "06/09/2019 11:12:28 - INFO - run_child_finetuning -     eval_accuracy = 0.4509548611111111\n",
      "06/09/2019 11:12:28 - INFO - run_child_finetuning -     eval_loss = 1.2567673405011495\n",
      "06/09/2019 11:12:28 - INFO - run_child_finetuning -   Evaluating on valid set...\n",
      "06/09/2019 11:12:56 - INFO - run_child_finetuning -   ***** Eval results *****\n",
      "06/09/2019 11:12:56 - INFO - run_child_finetuning -     eval_accuracy = 0.4379340277777778\n",
      "06/09/2019 11:12:56 - INFO - run_child_finetuning -     eval_loss = 1.2707869211832683\n",
      "\n",
      "\n",
      "\n",
      "\n",
      "Epoch:  57%|█████▋    | 57/100 [1:02:34<47:29, 66.27s/it]\u001b[A\u001b[A\u001b[A\u001b[A06/09/2019 11:13:06 - INFO - run_child_finetuning -   Epoch 58\n",
      "06/09/2019 11:13:06 - INFO - run_child_finetuning -   Evaluating on train set...\n",
      "06/09/2019 11:13:34 - INFO - run_child_finetuning -   ***** Eval results *****\n",
      "06/09/2019 11:13:34 - INFO - run_child_finetuning -     eval_accuracy = 0.4519097222222222\n",
      "06/09/2019 11:13:34 - INFO - run_child_finetuning -     eval_loss = 1.2552655418713887\n",
      "06/09/2019 11:13:34 - INFO - run_child_finetuning -   Evaluating on valid set...\n",
      "06/09/2019 11:14:02 - INFO - run_child_finetuning -   ***** Eval results *****\n",
      "06/09/2019 11:14:02 - INFO - run_child_finetuning -     eval_accuracy = 0.43697916666666664\n",
      "06/09/2019 11:14:02 - INFO - run_child_finetuning -     eval_loss = 1.2685243950949774\n",
      "\n",
      "\n",
      "\n",
      "\n",
      "Epoch:  58%|█████▊    | 58/100 [1:03:40<46:18, 66.16s/it]\u001b[A\u001b[A\u001b[A\u001b[A"
     ]
    },
    {
     "name": "stdout",
     "output_type": "stream",
     "text": [
      "global_step 21000, lr = -0.000094\n"
     ]
    },
    {
     "name": "stderr",
     "output_type": "stream",
     "text": [
      "06/09/2019 11:14:10 - INFO - run_child_finetuning -   Epoch 59\n",
      "06/09/2019 11:14:10 - INFO - run_child_finetuning -   Evaluating on train set...\n",
      "06/09/2019 11:14:38 - INFO - run_child_finetuning -   ***** Eval results *****\n",
      "06/09/2019 11:14:38 - INFO - run_child_finetuning -     eval_accuracy = 0.45078125\n",
      "06/09/2019 11:14:38 - INFO - run_child_finetuning -     eval_loss = 1.2543529285324944\n",
      "06/09/2019 11:14:38 - INFO - run_child_finetuning -   Evaluating on valid set...\n",
      "06/09/2019 11:15:06 - INFO - run_child_finetuning -   ***** Eval results *****\n",
      "06/09/2019 11:15:06 - INFO - run_child_finetuning -     eval_accuracy = 0.4381076388888889\n",
      "06/09/2019 11:15:06 - INFO - run_child_finetuning -     eval_loss = 1.2681733555263943\n",
      "\n",
      "\n",
      "\n",
      "\n",
      "Epoch:  59%|█████▉    | 59/100 [1:04:44<44:49, 65.59s/it]\u001b[A\u001b[A\u001b[A\u001b[A06/09/2019 11:15:16 - INFO - run_child_finetuning -   Epoch 60\n",
      "06/09/2019 11:15:16 - INFO - run_child_finetuning -   Evaluating on train set...\n",
      "06/09/2019 11:15:44 - INFO - run_child_finetuning -   ***** Eval results *****\n",
      "06/09/2019 11:15:44 - INFO - run_child_finetuning -     eval_accuracy = 0.4513888888888889\n",
      "06/09/2019 11:15:44 - INFO - run_child_finetuning -     eval_loss = 1.2541927046246\n",
      "06/09/2019 11:15:44 - INFO - run_child_finetuning -   Evaluating on valid set...\n",
      "06/09/2019 11:16:12 - INFO - run_child_finetuning -   ***** Eval results *****\n",
      "06/09/2019 11:16:12 - INFO - run_child_finetuning -     eval_accuracy = 0.4375\n",
      "06/09/2019 11:16:12 - INFO - run_child_finetuning -     eval_loss = 1.267860644393497\n",
      "\n",
      "\n",
      "\n",
      "\n",
      "Epoch:  60%|██████    | 60/100 [1:05:50<43:49, 65.73s/it]\u001b[A\u001b[A\u001b[A\u001b[A06/09/2019 11:16:23 - INFO - run_child_finetuning -   Epoch 61\n",
      "06/09/2019 11:16:23 - INFO - run_child_finetuning -   Evaluating on train set...\n",
      "06/09/2019 11:16:51 - INFO - run_child_finetuning -   ***** Eval results *****\n",
      "06/09/2019 11:16:51 - INFO - run_child_finetuning -     eval_accuracy = 0.4513020833333333\n",
      "06/09/2019 11:16:51 - INFO - run_child_finetuning -     eval_loss = 1.2536385284529792\n",
      "06/09/2019 11:16:51 - INFO - run_child_finetuning -   Evaluating on valid set...\n",
      "06/09/2019 11:17:19 - INFO - run_child_finetuning -   ***** Eval results *****\n",
      "06/09/2019 11:17:19 - INFO - run_child_finetuning -     eval_accuracy = 0.43758680555555557\n",
      "06/09/2019 11:17:19 - INFO - run_child_finetuning -     eval_loss = 1.2662296599811977\n",
      "\n",
      "\n",
      "\n",
      "\n",
      "Epoch:  61%|██████    | 61/100 [1:06:57<42:56, 66.08s/it]\u001b[A\u001b[A\u001b[A\u001b[A"
     ]
    },
    {
     "name": "stdout",
     "output_type": "stream",
     "text": [
      "global_step 22000, lr = -0.000104\n"
     ]
    },
    {
     "name": "stderr",
     "output_type": "stream",
     "text": [
      "06/09/2019 11:17:31 - INFO - run_child_finetuning -   Epoch 62\n",
      "06/09/2019 11:17:31 - INFO - run_child_finetuning -   Evaluating on train set...\n",
      "06/09/2019 11:17:59 - INFO - run_child_finetuning -   ***** Eval results *****\n",
      "06/09/2019 11:17:59 - INFO - run_child_finetuning -     eval_accuracy = 0.4519097222222222\n",
      "06/09/2019 11:17:59 - INFO - run_child_finetuning -     eval_loss = 1.2535286770926581\n",
      "06/09/2019 11:17:59 - INFO - run_child_finetuning -   Evaluating on valid set...\n",
      "06/09/2019 11:18:27 - INFO - run_child_finetuning -   ***** Eval results *****\n",
      "06/09/2019 11:18:27 - INFO - run_child_finetuning -     eval_accuracy = 0.43697916666666664\n",
      "06/09/2019 11:18:27 - INFO - run_child_finetuning -     eval_loss = 1.267613332801395\n",
      "\n",
      "\n",
      "\n",
      "\n",
      "Epoch:  62%|██████▏   | 62/100 [1:08:05<42:13, 66.66s/it]\u001b[A\u001b[A\u001b[A\u001b[A06/09/2019 11:18:37 - INFO - run_child_finetuning -   Epoch 63\n",
      "06/09/2019 11:18:37 - INFO - run_child_finetuning -   Evaluating on train set...\n",
      "06/09/2019 11:19:05 - INFO - run_child_finetuning -   ***** Eval results *****\n",
      "06/09/2019 11:19:05 - INFO - run_child_finetuning -     eval_accuracy = 0.4515625\n",
      "06/09/2019 11:19:05 - INFO - run_child_finetuning -     eval_loss = 1.2538655002911885\n",
      "06/09/2019 11:19:05 - INFO - run_child_finetuning -   Evaluating on valid set...\n",
      "06/09/2019 11:19:33 - INFO - run_child_finetuning -   ***** Eval results *****\n",
      "06/09/2019 11:19:33 - INFO - run_child_finetuning -     eval_accuracy = 0.43732638888888886\n",
      "06/09/2019 11:19:33 - INFO - run_child_finetuning -     eval_loss = 1.2682664235432943\n",
      "\n",
      "\n",
      "\n",
      "\n",
      "Epoch:  63%|██████▎   | 63/100 [1:09:11<40:59, 66.47s/it]\u001b[A\u001b[A\u001b[A\u001b[A"
     ]
    },
    {
     "name": "stdout",
     "output_type": "stream",
     "text": [
      "global_step 23000, lr = -0.000113\n"
     ]
    },
    {
     "name": "stderr",
     "output_type": "stream",
     "text": [
      "06/09/2019 11:19:42 - INFO - run_child_finetuning -   Epoch 64\n",
      "06/09/2019 11:19:42 - INFO - run_child_finetuning -   Evaluating on train set...\n",
      "06/09/2019 11:20:09 - INFO - run_child_finetuning -   ***** Eval results *****\n",
      "06/09/2019 11:20:09 - INFO - run_child_finetuning -     eval_accuracy = 0.44991319444444444\n",
      "06/09/2019 11:20:09 - INFO - run_child_finetuning -     eval_loss = 1.2541112303733826\n",
      "06/09/2019 11:20:09 - INFO - run_child_finetuning -   Evaluating on valid set...\n",
      "06/09/2019 11:20:37 - INFO - run_child_finetuning -   ***** Eval results *****\n",
      "06/09/2019 11:20:37 - INFO - run_child_finetuning -     eval_accuracy = 0.43897569444444445\n",
      "06/09/2019 11:20:37 - INFO - run_child_finetuning -     eval_loss = 1.267833666006724\n",
      "\n",
      "\n",
      "\n",
      "\n",
      "Epoch:  64%|██████▍   | 64/100 [1:10:15<39:27, 65.76s/it]\u001b[A\u001b[A\u001b[A\u001b[A06/09/2019 11:20:46 - INFO - run_child_finetuning -   Epoch 65\n",
      "06/09/2019 11:20:46 - INFO - run_child_finetuning -   Evaluating on train set...\n",
      "06/09/2019 11:21:14 - INFO - run_child_finetuning -   ***** Eval results *****\n",
      "06/09/2019 11:21:14 - INFO - run_child_finetuning -     eval_accuracy = 0.4509548611111111\n",
      "06/09/2019 11:21:14 - INFO - run_child_finetuning -     eval_loss = 1.2567384481430053\n",
      "06/09/2019 11:21:14 - INFO - run_child_finetuning -   Evaluating on valid set...\n",
      "06/09/2019 11:21:42 - INFO - run_child_finetuning -   ***** Eval results *****\n",
      "06/09/2019 11:21:42 - INFO - run_child_finetuning -     eval_accuracy = 0.4379340277777778\n",
      "06/09/2019 11:21:42 - INFO - run_child_finetuning -     eval_loss = 1.2706474079026115\n",
      "\n",
      "\n",
      "\n",
      "\n",
      "Epoch:  65%|██████▌   | 65/100 [1:11:20<38:10, 65.44s/it]\u001b[A\u001b[A\u001b[A\u001b[A06/09/2019 11:21:52 - INFO - run_child_finetuning -   Epoch 66\n",
      "06/09/2019 11:21:52 - INFO - run_child_finetuning -   Evaluating on train set...\n",
      "06/09/2019 11:22:20 - INFO - run_child_finetuning -   ***** Eval results *****\n",
      "06/09/2019 11:22:20 - INFO - run_child_finetuning -     eval_accuracy = 0.45078125\n",
      "06/09/2019 11:22:20 - INFO - run_child_finetuning -     eval_loss = 1.253372961945004\n",
      "06/09/2019 11:22:20 - INFO - run_child_finetuning -   Evaluating on valid set...\n",
      "06/09/2019 11:22:48 - INFO - run_child_finetuning -   ***** Eval results *****\n",
      "06/09/2019 11:22:48 - INFO - run_child_finetuning -     eval_accuracy = 0.4381076388888889\n",
      "06/09/2019 11:22:48 - INFO - run_child_finetuning -     eval_loss = 1.267328475581275\n",
      "\n",
      "\n",
      "\n",
      "\n",
      "Epoch:  66%|██████▌   | 66/100 [1:12:26<37:10, 65.61s/it]\u001b[A\u001b[A\u001b[A\u001b[A"
     ]
    },
    {
     "name": "stdout",
     "output_type": "stream",
     "text": [
      "global_step 24000, lr = -0.000122\n"
     ]
    },
    {
     "name": "stderr",
     "output_type": "stream",
     "text": [
      "06/09/2019 11:22:58 - INFO - run_child_finetuning -   Epoch 67\n",
      "06/09/2019 11:22:58 - INFO - run_child_finetuning -   Evaluating on train set...\n",
      "06/09/2019 11:23:27 - INFO - run_child_finetuning -   ***** Eval results *****\n",
      "06/09/2019 11:23:27 - INFO - run_child_finetuning -     eval_accuracy = 0.45078125\n",
      "06/09/2019 11:23:27 - INFO - run_child_finetuning -     eval_loss = 1.2558889269828797\n",
      "06/09/2019 11:23:27 - INFO - run_child_finetuning -   Evaluating on valid set...\n",
      "06/09/2019 11:23:55 - INFO - run_child_finetuning -   ***** Eval results *****\n",
      "06/09/2019 11:23:55 - INFO - run_child_finetuning -     eval_accuracy = 0.4381076388888889\n",
      "06/09/2019 11:23:55 - INFO - run_child_finetuning -     eval_loss = 1.2680187635951572\n",
      "\n",
      "\n",
      "\n",
      "\n",
      "Epoch:  67%|██████▋   | 67/100 [1:13:33<36:17, 65.97s/it]\u001b[A\u001b[A\u001b[A\u001b[A06/09/2019 11:24:05 - INFO - run_child_finetuning -   Epoch 68\n",
      "06/09/2019 11:24:05 - INFO - run_child_finetuning -   Evaluating on train set...\n",
      "06/09/2019 11:24:33 - INFO - run_child_finetuning -   ***** Eval results *****\n",
      "06/09/2019 11:24:33 - INFO - run_child_finetuning -     eval_accuracy = 0.4509548611111111\n",
      "06/09/2019 11:24:33 - INFO - run_child_finetuning -     eval_loss = 1.2534217052989536\n",
      "06/09/2019 11:24:33 - INFO - run_child_finetuning -   Evaluating on valid set...\n",
      "06/09/2019 11:25:01 - INFO - run_child_finetuning -   ***** Eval results *****\n",
      "06/09/2019 11:25:01 - INFO - run_child_finetuning -     eval_accuracy = 0.4379340277777778\n",
      "06/09/2019 11:25:01 - INFO - run_child_finetuning -     eval_loss = 1.267832002374861\n",
      "\n",
      "\n",
      "\n",
      "\n",
      "Epoch:  68%|██████▊   | 68/100 [1:14:39<35:12, 66.03s/it]\u001b[A\u001b[A\u001b[A\u001b[A06/09/2019 11:25:12 - INFO - run_child_finetuning -   Epoch 69\n",
      "06/09/2019 11:25:12 - INFO - run_child_finetuning -   Evaluating on train set...\n",
      "06/09/2019 11:25:40 - INFO - run_child_finetuning -   ***** Eval results *****\n",
      "06/09/2019 11:25:40 - INFO - run_child_finetuning -     eval_accuracy = 0.4515625\n",
      "06/09/2019 11:25:40 - INFO - run_child_finetuning -     eval_loss = 1.2543478224012587\n",
      "06/09/2019 11:25:40 - INFO - run_child_finetuning -   Evaluating on valid set...\n",
      "06/09/2019 11:26:08 - INFO - run_child_finetuning -   ***** Eval results *****\n",
      "06/09/2019 11:26:08 - INFO - run_child_finetuning -     eval_accuracy = 0.43732638888888886\n",
      "06/09/2019 11:26:08 - INFO - run_child_finetuning -     eval_loss = 1.2676605025927226\n",
      "\n",
      "\n",
      "\n",
      "\n",
      "Epoch:  69%|██████▉   | 69/100 [1:15:46<34:13, 66.25s/it]\u001b[A\u001b[A\u001b[A\u001b[A"
     ]
    },
    {
     "name": "stdout",
     "output_type": "stream",
     "text": [
      "global_step 25000, lr = -0.000131\n"
     ]
    },
    {
     "name": "stderr",
     "output_type": "stream",
     "text": [
      "06/09/2019 11:26:20 - INFO - run_child_finetuning -   Epoch 70\n",
      "06/09/2019 11:26:20 - INFO - run_child_finetuning -   Evaluating on train set...\n",
      "06/09/2019 11:26:48 - INFO - run_child_finetuning -   ***** Eval results *****\n",
      "06/09/2019 11:26:48 - INFO - run_child_finetuning -     eval_accuracy = 0.44973958333333336\n",
      "06/09/2019 11:26:48 - INFO - run_child_finetuning -     eval_loss = 1.256232378217909\n",
      "06/09/2019 11:26:48 - INFO - run_child_finetuning -   Evaluating on valid set...\n",
      "06/09/2019 11:27:16 - INFO - run_child_finetuning -   ***** Eval results *****\n",
      "06/09/2019 11:27:16 - INFO - run_child_finetuning -     eval_accuracy = 0.43914930555555554\n",
      "06/09/2019 11:27:16 - INFO - run_child_finetuning -     eval_loss = 1.2710346884197659\n",
      "\n",
      "\n",
      "\n",
      "\n",
      "Epoch:  70%|███████   | 70/100 [1:16:54<33:23, 66.77s/it]\u001b[A\u001b[A\u001b[A\u001b[A06/09/2019 11:27:28 - INFO - run_child_finetuning -   Epoch 71\n",
      "06/09/2019 11:27:28 - INFO - run_child_finetuning -   Evaluating on train set...\n",
      "06/09/2019 11:27:56 - INFO - run_child_finetuning -   ***** Eval results *****\n",
      "06/09/2019 11:27:56 - INFO - run_child_finetuning -     eval_accuracy = 0.4509548611111111\n",
      "06/09/2019 11:27:56 - INFO - run_child_finetuning -     eval_loss = 1.254373996787601\n",
      "06/09/2019 11:27:56 - INFO - run_child_finetuning -   Evaluating on valid set...\n",
      "06/09/2019 11:28:24 - INFO - run_child_finetuning -   ***** Eval results *****\n",
      "06/09/2019 11:28:24 - INFO - run_child_finetuning -     eval_accuracy = 0.4379340277777778\n",
      "06/09/2019 11:28:24 - INFO - run_child_finetuning -     eval_loss = 1.268411025736067\n",
      "\n",
      "\n",
      "\n",
      "\n",
      "Epoch:  71%|███████   | 71/100 [1:18:02<32:27, 67.14s/it]\u001b[A\u001b[A\u001b[A\u001b[A06/09/2019 11:28:34 - INFO - run_child_finetuning -   Epoch 72\n",
      "06/09/2019 11:28:34 - INFO - run_child_finetuning -   Evaluating on train set...\n",
      "06/09/2019 11:29:02 - INFO - run_child_finetuning -   ***** Eval results *****\n",
      "06/09/2019 11:29:02 - INFO - run_child_finetuning -     eval_accuracy = 0.44973958333333336\n",
      "06/09/2019 11:29:02 - INFO - run_child_finetuning -     eval_loss = 1.2569880644480387\n",
      "06/09/2019 11:29:02 - INFO - run_child_finetuning -   Evaluating on valid set...\n",
      "06/09/2019 11:29:30 - INFO - run_child_finetuning -   ***** Eval results *****\n",
      "06/09/2019 11:29:30 - INFO - run_child_finetuning -     eval_accuracy = 0.43914930555555554\n",
      "06/09/2019 11:29:30 - INFO - run_child_finetuning -     eval_loss = 1.2723949763509963\n",
      "\n",
      "\n",
      "\n",
      "\n",
      "Epoch:  72%|███████▏  | 72/100 [1:19:08<31:12, 66.86s/it]\u001b[A\u001b[A\u001b[A\u001b[A"
     ]
    },
    {
     "name": "stdout",
     "output_type": "stream",
     "text": [
      "global_step 26000, lr = -0.000141\n"
     ]
    },
    {
     "name": "stderr",
     "output_type": "stream",
     "text": [
      "06/09/2019 11:29:40 - INFO - run_child_finetuning -   Epoch 73\n",
      "06/09/2019 11:29:40 - INFO - run_child_finetuning -   Evaluating on train set...\n",
      "06/09/2019 11:30:08 - INFO - run_child_finetuning -   ***** Eval results *****\n",
      "06/09/2019 11:30:08 - INFO - run_child_finetuning -     eval_accuracy = 0.4509548611111111\n",
      "06/09/2019 11:30:08 - INFO - run_child_finetuning -     eval_loss = 1.2545752935939365\n",
      "06/09/2019 11:30:08 - INFO - run_child_finetuning -   Evaluating on valid set...\n",
      "06/09/2019 11:30:36 - INFO - run_child_finetuning -   ***** Eval results *****\n",
      "06/09/2019 11:30:36 - INFO - run_child_finetuning -     eval_accuracy = 0.4379340277777778\n",
      "06/09/2019 11:30:36 - INFO - run_child_finetuning -     eval_loss = 1.269049670961168\n",
      "\n",
      "\n",
      "\n",
      "\n",
      "Epoch:  73%|███████▎  | 73/100 [1:20:14<29:58, 66.62s/it]\u001b[A\u001b[A\u001b[A\u001b[A06/09/2019 11:30:46 - INFO - run_child_finetuning -   Epoch 74\n",
      "06/09/2019 11:30:46 - INFO - run_child_finetuning -   Evaluating on train set...\n",
      "06/09/2019 11:31:14 - INFO - run_child_finetuning -   ***** Eval results *****\n",
      "06/09/2019 11:31:14 - INFO - run_child_finetuning -     eval_accuracy = 0.4509548611111111\n",
      "06/09/2019 11:31:14 - INFO - run_child_finetuning -     eval_loss = 1.2558313740624323\n",
      "06/09/2019 11:31:14 - INFO - run_child_finetuning -   Evaluating on valid set...\n",
      "06/09/2019 11:31:42 - INFO - run_child_finetuning -   ***** Eval results *****\n",
      "06/09/2019 11:31:42 - INFO - run_child_finetuning -     eval_accuracy = 0.4379340277777778\n",
      "06/09/2019 11:31:42 - INFO - run_child_finetuning -     eval_loss = 1.2702598147922093\n",
      "\n",
      "\n",
      "\n",
      "\n",
      "Epoch:  74%|███████▍  | 74/100 [1:21:20<28:47, 66.45s/it]\u001b[A\u001b[A\u001b[A\u001b[A06/09/2019 11:31:52 - INFO - run_child_finetuning -   Epoch 75\n",
      "06/09/2019 11:31:52 - INFO - run_child_finetuning -   Evaluating on train set...\n",
      "06/09/2019 11:32:20 - INFO - run_child_finetuning -   ***** Eval results *****\n",
      "06/09/2019 11:32:20 - INFO - run_child_finetuning -     eval_accuracy = 0.45069444444444445\n",
      "06/09/2019 11:32:20 - INFO - run_child_finetuning -     eval_loss = 1.25285046365526\n",
      "06/09/2019 11:32:20 - INFO - run_child_finetuning -   Evaluating on valid set...\n",
      "06/09/2019 11:32:48 - INFO - run_child_finetuning -   ***** Eval results *****\n",
      "06/09/2019 11:32:48 - INFO - run_child_finetuning -     eval_accuracy = 0.43819444444444444\n",
      "06/09/2019 11:32:48 - INFO - run_child_finetuning -     eval_loss = 1.2665512853198582\n",
      "\n",
      "\n",
      "\n",
      "\n",
      "Epoch:  75%|███████▌  | 75/100 [1:22:26<27:37, 66.32s/it]\u001b[A\u001b[A\u001b[A\u001b[A"
     ]
    },
    {
     "name": "stdout",
     "output_type": "stream",
     "text": [
      "global_step 27000, lr = -0.000150\n"
     ]
    },
    {
     "name": "stderr",
     "output_type": "stream",
     "text": [
      "06/09/2019 11:32:58 - INFO - run_child_finetuning -   Epoch 76\n",
      "06/09/2019 11:32:58 - INFO - run_child_finetuning -   Evaluating on train set...\n",
      "06/09/2019 11:33:26 - INFO - run_child_finetuning -   ***** Eval results *****\n",
      "06/09/2019 11:33:26 - INFO - run_child_finetuning -     eval_accuracy = 0.4599826388888889\n",
      "06/09/2019 11:33:26 - INFO - run_child_finetuning -     eval_loss = 1.2468693004714118\n",
      "06/09/2019 11:33:26 - INFO - run_child_finetuning -   Evaluating on valid set...\n",
      "06/09/2019 11:35:11 - INFO - run_child_finetuning -   Evaluating on train set...\n",
      "06/09/2019 11:35:39 - INFO - run_child_finetuning -   ***** Eval results *****\n",
      "06/09/2019 11:35:39 - INFO - run_child_finetuning -     eval_accuracy = 0.4732638888888889\n",
      "06/09/2019 11:35:39 - INFO - run_child_finetuning -     eval_loss = 1.2132148491011725\n",
      "06/09/2019 11:35:39 - INFO - run_child_finetuning -   Evaluating on valid set...\n",
      "06/09/2019 11:36:06 - INFO - run_child_finetuning -   ***** Eval results *****\n",
      "06/09/2019 11:36:06 - INFO - run_child_finetuning -     eval_accuracy = 0.46206597222222223\n",
      "06/09/2019 11:36:06 - INFO - run_child_finetuning -     eval_loss = 1.2266984952820672\n",
      "\n",
      "\n",
      "\n",
      "\n",
      "Epoch:  78%|███████▊  | 78/100 [1:25:44<24:15, 66.17s/it]\u001b[A\u001b[A\u001b[A\u001b[A06/09/2019 11:36:17 - INFO - run_child_finetuning -   Epoch 79\n",
      "06/09/2019 11:36:17 - INFO - run_child_finetuning -   Evaluating on train set...\n",
      "06/09/2019 11:36:44 - INFO - run_child_finetuning -   ***** Eval results *****\n",
      "06/09/2019 11:36:44 - INFO - run_child_finetuning -     eval_accuracy = 0.4810763888888889\n",
      "06/09/2019 11:36:44 - INFO - run_child_finetuning -     eval_loss = 1.1860122005144755\n",
      "06/09/2019 11:36:44 - INFO - run_child_finetuning -   Evaluating on valid set...\n",
      "06/09/2019 11:37:12 - INFO - run_child_finetuning -   ***** Eval results *****\n",
      "06/09/2019 11:37:12 - INFO - run_child_finetuning -     eval_accuracy = 0.46848958333333335\n",
      "06/09/2019 11:37:12 - INFO - run_child_finetuning -     eval_loss = 1.1959241694874234\n",
      "\n",
      "\n",
      "\n",
      "\n",
      "Epoch:  79%|███████▉  | 79/100 [1:26:50<23:08, 66.12s/it]\u001b[A\u001b[A\u001b[A\u001b[A06/09/2019 11:37:22 - INFO - run_child_finetuning -   Epoch 80\n",
      "06/09/2019 11:37:22 - INFO - run_child_finetuning -   Evaluating on train set...\n",
      "06/09/2019 11:37:50 - INFO - run_child_finetuning -   ***** Eval results *****\n",
      "06/09/2019 11:37:50 - INFO - run_child_finetuning -     eval_accuracy = 0.49288194444444444\n",
      "06/09/2019 11:37:50 - INFO - run_child_finetuning -     eval_loss = 1.1808326456281875\n",
      "06/09/2019 11:37:50 - INFO - run_child_finetuning -   Evaluating on valid set...\n",
      "06/09/2019 11:38:18 - INFO - run_child_finetuning -   ***** Eval results *****\n",
      "06/09/2019 11:38:18 - INFO - run_child_finetuning -     eval_accuracy = 0.4830729166666667\n",
      "06/09/2019 11:38:18 - INFO - run_child_finetuning -     eval_loss = 1.1921248899565802\n",
      "\n",
      "\n",
      "\n",
      "\n",
      "Epoch:  80%|████████  | 80/100 [1:27:56<21:59, 65.98s/it]\u001b[A\u001b[A\u001b[A\u001b[A"
     ]
    },
    {
     "name": "stdout",
     "output_type": "stream",
     "text": [
      "global_step 29000, lr = -0.000169\n"
     ]
    },
    {
     "name": "stderr",
     "output_type": "stream",
     "text": [
      "06/09/2019 11:38:28 - INFO - run_child_finetuning -   Epoch 81\n",
      "06/09/2019 11:38:28 - INFO - run_child_finetuning -   Evaluating on train set...\n",
      "06/09/2019 11:38:56 - INFO - run_child_finetuning -   ***** Eval results *****\n",
      "06/09/2019 11:38:56 - INFO - run_child_finetuning -     eval_accuracy = 0.5042534722222223\n",
      "06/09/2019 11:38:56 - INFO - run_child_finetuning -     eval_loss = 1.1616202606095207\n",
      "06/09/2019 11:38:56 - INFO - run_child_finetuning -   Evaluating on valid set...\n",
      "06/09/2019 11:39:24 - INFO - run_child_finetuning -   ***** Eval results *****\n",
      "06/09/2019 11:39:24 - INFO - run_child_finetuning -     eval_accuracy = 0.4915798611111111\n",
      "06/09/2019 11:39:24 - INFO - run_child_finetuning -     eval_loss = 1.1748484041955736\n",
      "\n",
      "\n",
      "\n",
      "\n",
      "Epoch:  81%|████████  | 81/100 [1:29:02<20:53, 65.97s/it]\u001b[A\u001b[A\u001b[A\u001b[A06/09/2019 11:39:34 - INFO - run_child_finetuning -   Epoch 82\n",
      "06/09/2019 11:39:34 - INFO - run_child_finetuning -   Evaluating on train set...\n",
      "06/09/2019 11:40:02 - INFO - run_child_finetuning -   ***** Eval results *****\n",
      "06/09/2019 11:40:02 - INFO - run_child_finetuning -     eval_accuracy = 0.5051215277777777\n",
      "06/09/2019 11:40:02 - INFO - run_child_finetuning -     eval_loss = 1.1368214580747815\n",
      "06/09/2019 11:40:02 - INFO - run_child_finetuning -   Evaluating on valid set...\n",
      "06/09/2019 11:40:30 - INFO - run_child_finetuning -   ***** Eval results *****\n",
      "06/09/2019 11:40:30 - INFO - run_child_finetuning -     eval_accuracy = 0.49105902777777777\n",
      "06/09/2019 11:40:30 - INFO - run_child_finetuning -     eval_loss = 1.152006494998932\n",
      "\n",
      "\n",
      "\n",
      "\n",
      "Epoch:  82%|████████▏ | 82/100 [1:30:08<19:48, 66.01s/it]\u001b[A\u001b[A\u001b[A\u001b[A06/09/2019 11:40:40 - INFO - run_child_finetuning -   Epoch 83\n",
      "06/09/2019 11:40:40 - INFO - run_child_finetuning -   Evaluating on train set...\n",
      "06/09/2019 11:41:08 - INFO - run_child_finetuning -   ***** Eval results *****\n",
      "06/09/2019 11:41:08 - INFO - run_child_finetuning -     eval_accuracy = 0.5098090277777778\n",
      "06/09/2019 11:41:08 - INFO - run_child_finetuning -     eval_loss = 1.0961747805277506\n",
      "06/09/2019 11:41:08 - INFO - run_child_finetuning -   Evaluating on valid set...\n",
      "06/09/2019 11:41:36 - INFO - run_child_finetuning -   ***** Eval results *****\n",
      "06/09/2019 11:41:36 - INFO - run_child_finetuning -     eval_accuracy = 0.5002604166666667\n",
      "06/09/2019 11:41:36 - INFO - run_child_finetuning -     eval_loss = 1.1076407035191853\n",
      "\n",
      "\n",
      "\n",
      "\n",
      "Epoch:  83%|████████▎ | 83/100 [1:31:14<18:42, 66.02s/it]\u001b[A\u001b[A\u001b[A\u001b[A"
     ]
    },
    {
     "name": "stdout",
     "output_type": "stream",
     "text": [
      "global_step 30000, lr = -0.000178\n"
     ]
    },
    {
     "name": "stderr",
     "output_type": "stream",
     "text": [
      "06/09/2019 11:41:47 - INFO - run_child_finetuning -   Epoch 84\n",
      "06/09/2019 11:41:47 - INFO - run_child_finetuning -   Evaluating on train set...\n",
      "06/09/2019 11:42:14 - INFO - run_child_finetuning -   ***** Eval results *****\n",
      "06/09/2019 11:42:14 - INFO - run_child_finetuning -     eval_accuracy = 0.5082465277777778\n",
      "06/09/2019 11:42:14 - INFO - run_child_finetuning -     eval_loss = 1.076478154791726\n",
      "06/09/2019 11:42:14 - INFO - run_child_finetuning -   Evaluating on valid set...\n",
      "06/09/2019 11:42:42 - INFO - run_child_finetuning -   ***** Eval results *****\n",
      "06/09/2019 11:42:42 - INFO - run_child_finetuning -     eval_accuracy = 0.4957465277777778\n",
      "06/09/2019 11:42:42 - INFO - run_child_finetuning -     eval_loss = 1.0900266740057203\n",
      "\n",
      "\n",
      "\n",
      "\n",
      "Epoch:  84%|████████▍ | 84/100 [1:32:20<17:36, 66.05s/it]\u001b[A\u001b[A\u001b[A\u001b[A06/09/2019 11:42:53 - INFO - run_child_finetuning -   Epoch 85\n",
      "06/09/2019 11:42:53 - INFO - run_child_finetuning -   Evaluating on train set...\n",
      "06/09/2019 11:43:20 - INFO - run_child_finetuning -   ***** Eval results *****\n",
      "06/09/2019 11:43:20 - INFO - run_child_finetuning -     eval_accuracy = 0.5261284722222223\n",
      "06/09/2019 11:43:20 - INFO - run_child_finetuning -     eval_loss = 1.04820695983039\n",
      "06/09/2019 11:43:21 - INFO - run_child_finetuning -   Evaluating on valid set...\n",
      "06/09/2019 11:43:48 - INFO - run_child_finetuning -   ***** Eval results *****\n",
      "06/09/2019 11:43:48 - INFO - run_child_finetuning -     eval_accuracy = 0.5151041666666667\n",
      "06/09/2019 11:43:48 - INFO - run_child_finetuning -     eval_loss = 1.0613130741649204\n",
      "\n",
      "\n",
      "\n",
      "\n",
      "Epoch:  85%|████████▌ | 85/100 [1:33:26<16:31, 66.07s/it]\u001b[A\u001b[A\u001b[A\u001b[A06/09/2019 11:43:58 - INFO - run_child_finetuning -   Epoch 86\n",
      "06/09/2019 11:43:58 - INFO - run_child_finetuning -   Evaluating on train set...\n",
      "06/09/2019 11:44:26 - INFO - run_child_finetuning -   ***** Eval results *****\n",
      "06/09/2019 11:44:26 - INFO - run_child_finetuning -     eval_accuracy = 0.5272569444444445\n",
      "06/09/2019 11:44:26 - INFO - run_child_finetuning -     eval_loss = 1.0183378650082482\n",
      "06/09/2019 11:44:26 - INFO - run_child_finetuning -   Evaluating on valid set...\n",
      "06/09/2019 11:44:54 - INFO - run_child_finetuning -   ***** Eval results *****\n",
      "06/09/2019 11:44:54 - INFO - run_child_finetuning -     eval_accuracy = 0.5131076388888889\n",
      "06/09/2019 11:44:54 - INFO - run_child_finetuning -     eval_loss = 1.0315876146157583\n",
      "\n",
      "\n",
      "\n",
      "\n",
      "Epoch:  86%|████████▌ | 86/100 [1:34:32<15:23, 65.96s/it]\u001b[A\u001b[A\u001b[A\u001b[A"
     ]
    },
    {
     "name": "stdout",
     "output_type": "stream",
     "text": [
      "global_step 31000, lr = -0.000187\n"
     ]
    },
    {
     "name": "stderr",
     "output_type": "stream",
     "text": [
      "06/09/2019 11:45:05 - INFO - run_child_finetuning -   Epoch 87\n",
      "06/09/2019 11:45:05 - INFO - run_child_finetuning -   Evaluating on train set...\n",
      "06/09/2019 11:45:33 - INFO - run_child_finetuning -   ***** Eval results *****\n",
      "06/09/2019 11:45:33 - INFO - run_child_finetuning -     eval_accuracy = 0.5419270833333333\n",
      "06/09/2019 11:45:33 - INFO - run_child_finetuning -     eval_loss = 0.9918538702858819\n",
      "06/09/2019 11:45:33 - INFO - run_child_finetuning -   Evaluating on valid set...\n",
      "06/09/2019 11:46:01 - INFO - run_child_finetuning -   ***** Eval results *****\n",
      "06/09/2019 11:46:01 - INFO - run_child_finetuning -     eval_accuracy = 0.5289930555555555\n",
      "06/09/2019 11:46:01 - INFO - run_child_finetuning -     eval_loss = 1.0008921066919962\n",
      "\n",
      "\n",
      "\n",
      "\n",
      "Epoch:  87%|████████▋ | 87/100 [1:35:39<14:19, 66.13s/it]\u001b[A\u001b[A\u001b[A\u001b[A06/09/2019 11:46:11 - INFO - run_child_finetuning -   Epoch 88\n",
      "06/09/2019 11:46:11 - INFO - run_child_finetuning -   Evaluating on train set...\n",
      "06/09/2019 11:46:39 - INFO - run_child_finetuning -   ***** Eval results *****\n",
      "06/09/2019 11:46:39 - INFO - run_child_finetuning -     eval_accuracy = 0.5427083333333333\n",
      "06/09/2019 11:46:39 - INFO - run_child_finetuning -     eval_loss = 0.9888957500457763\n",
      "06/09/2019 11:46:39 - INFO - run_child_finetuning -   Evaluating on valid set...\n",
      "06/09/2019 11:47:07 - INFO - run_child_finetuning -   ***** Eval results *****\n",
      "06/09/2019 11:47:07 - INFO - run_child_finetuning -     eval_accuracy = 0.5352430555555555\n",
      "06/09/2019 11:47:07 - INFO - run_child_finetuning -     eval_loss = 1.0018013291888768\n",
      "\n",
      "\n",
      "\n",
      "\n",
      "Epoch:  88%|████████▊ | 88/100 [1:36:45<13:14, 66.23s/it]\u001b[A\u001b[A\u001b[A\u001b[A"
     ]
    },
    {
     "name": "stdout",
     "output_type": "stream",
     "text": [
      "global_step 32000, lr = -0.000196\n"
     ]
    },
    {
     "name": "stderr",
     "output_type": "stream",
     "text": [
      "06/09/2019 11:47:17 - INFO - run_child_finetuning -   Epoch 89\n",
      "06/09/2019 11:47:17 - INFO - run_child_finetuning -   Evaluating on train set...\n",
      "06/09/2019 11:47:45 - INFO - run_child_finetuning -   ***** Eval results *****\n",
      "06/09/2019 11:47:45 - INFO - run_child_finetuning -     eval_accuracy = 0.56171875\n",
      "06/09/2019 11:47:45 - INFO - run_child_finetuning -     eval_loss = 0.9563338147269355\n",
      "06/09/2019 11:47:45 - INFO - run_child_finetuning -   Evaluating on valid set...\n",
      "06/09/2019 11:48:13 - INFO - run_child_finetuning -   ***** Eval results *****\n",
      "06/09/2019 11:48:13 - INFO - run_child_finetuning -     eval_accuracy = 0.5494791666666666\n",
      "06/09/2019 11:48:13 - INFO - run_child_finetuning -     eval_loss = 0.9669986453321245\n",
      "\n",
      "\n",
      "\n",
      "\n",
      "Epoch:  89%|████████▉ | 89/100 [1:37:51<12:08, 66.23s/it]\u001b[A\u001b[A\u001b[A\u001b[A06/09/2019 11:48:24 - INFO - run_child_finetuning -   Epoch 90\n",
      "06/09/2019 11:48:24 - INFO - run_child_finetuning -   Evaluating on train set...\n",
      "06/09/2019 11:48:51 - INFO - run_child_finetuning -   ***** Eval results *****\n",
      "06/09/2019 11:48:51 - INFO - run_child_finetuning -     eval_accuracy = 0.5645833333333333\n",
      "06/09/2019 11:48:51 - INFO - run_child_finetuning -     eval_loss = 0.9435959888829125\n",
      "06/09/2019 11:48:52 - INFO - run_child_finetuning -   Evaluating on valid set...\n",
      "06/09/2019 11:49:19 - INFO - run_child_finetuning -   ***** Eval results *****\n",
      "06/09/2019 11:49:19 - INFO - run_child_finetuning -     eval_accuracy = 0.5533854166666666\n",
      "06/09/2019 11:49:19 - INFO - run_child_finetuning -     eval_loss = 0.9578184756967757\n",
      "\n",
      "\n",
      "\n",
      "\n",
      "Epoch:  90%|█████████ | 90/100 [1:38:57<11:01, 66.16s/it]\u001b[A\u001b[A\u001b[A\u001b[A06/09/2019 11:49:30 - INFO - run_child_finetuning -   Epoch 91\n",
      "06/09/2019 11:49:30 - INFO - run_child_finetuning -   Evaluating on train set...\n",
      "06/09/2019 11:49:57 - INFO - run_child_finetuning -   ***** Eval results *****\n",
      "06/09/2019 11:49:57 - INFO - run_child_finetuning -     eval_accuracy = 0.5693576388888889\n",
      "06/09/2019 11:49:57 - INFO - run_child_finetuning -     eval_loss = 0.928356761402554\n",
      "06/09/2019 11:49:57 - INFO - run_child_finetuning -   Evaluating on valid set...\n",
      "06/09/2019 11:50:25 - INFO - run_child_finetuning -   ***** Eval results *****\n",
      "06/09/2019 11:50:25 - INFO - run_child_finetuning -     eval_accuracy = 0.5584201388888889\n",
      "06/09/2019 11:50:25 - INFO - run_child_finetuning -     eval_loss = 0.9383055541250441\n",
      "\n",
      "\n",
      "\n",
      "\n",
      "Epoch:  91%|█████████ | 91/100 [1:40:04<09:55, 66.18s/it]\u001b[A\u001b[A\u001b[A\u001b[A"
     ]
    },
    {
     "name": "stdout",
     "output_type": "stream",
     "text": [
      "global_step 33000, lr = -0.000206\n"
     ]
    },
    {
     "name": "stderr",
     "output_type": "stream",
     "text": [
      "06/09/2019 11:50:36 - INFO - run_child_finetuning -   Epoch 92\n",
      "06/09/2019 11:50:36 - INFO - run_child_finetuning -   Evaluating on train set...\n",
      "06/09/2019 11:51:04 - INFO - run_child_finetuning -   ***** Eval results *****\n",
      "06/09/2019 11:51:04 - INFO - run_child_finetuning -     eval_accuracy = 0.5755208333333334\n",
      "06/09/2019 11:51:04 - INFO - run_child_finetuning -     eval_loss = 0.9096341941091749\n",
      "06/09/2019 11:51:04 - INFO - run_child_finetuning -   Evaluating on valid set...\n",
      "06/09/2019 11:51:32 - INFO - run_child_finetuning -   ***** Eval results *****\n",
      "06/09/2019 11:51:32 - INFO - run_child_finetuning -     eval_accuracy = 0.56328125\n",
      "06/09/2019 11:51:32 - INFO - run_child_finetuning -     eval_loss = 0.9205585459868113\n",
      "\n",
      "\n",
      "\n",
      "\n",
      "Epoch:  92%|█████████▏| 92/100 [1:41:10<08:49, 66.14s/it]\u001b[A\u001b[A\u001b[A\u001b[A06/09/2019 11:51:43 - INFO - run_child_finetuning -   Epoch 93\n",
      "06/09/2019 11:51:43 - INFO - run_child_finetuning -   Evaluating on train set...\n",
      "06/09/2019 11:52:11 - INFO - run_child_finetuning -   ***** Eval results *****\n",
      "06/09/2019 11:52:11 - INFO - run_child_finetuning -     eval_accuracy = 0.58046875\n",
      "06/09/2019 11:52:11 - INFO - run_child_finetuning -     eval_loss = 0.900900975200865\n",
      "06/09/2019 11:52:11 - INFO - run_child_finetuning -   Evaluating on valid set...\n",
      "06/09/2019 11:52:38 - INFO - run_child_finetuning -   ***** Eval results *****\n",
      "06/09/2019 11:52:38 - INFO - run_child_finetuning -     eval_accuracy = 0.5693576388888889\n",
      "06/09/2019 11:52:38 - INFO - run_child_finetuning -     eval_loss = 0.9142036868466271\n",
      "\n",
      "\n",
      "\n",
      "\n",
      "Epoch:  93%|█████████▎| 93/100 [1:42:16<07:44, 66.33s/it]\u001b[A\u001b[A\u001b[A\u001b[A06/09/2019 11:52:47 - INFO - run_child_finetuning -   Epoch 94\n",
      "06/09/2019 11:52:47 - INFO - run_child_finetuning -   Evaluating on train set...\n",
      "06/09/2019 11:53:15 - INFO - run_child_finetuning -   ***** Eval results *****\n",
      "06/09/2019 11:53:15 - INFO - run_child_finetuning -     eval_accuracy = 0.5886284722222223\n",
      "06/09/2019 11:53:15 - INFO - run_child_finetuning -     eval_loss = 0.8851869417561425\n",
      "06/09/2019 11:53:15 - INFO - run_child_finetuning -   Evaluating on valid set...\n",
      "06/09/2019 11:53:43 - INFO - run_child_finetuning -   ***** Eval results *****\n",
      "06/09/2019 11:53:43 - INFO - run_child_finetuning -     eval_accuracy = 0.5755208333333334\n",
      "06/09/2019 11:53:43 - INFO - run_child_finetuning -     eval_loss = 0.8926095426082611\n",
      "\n",
      "\n",
      "\n",
      "\n",
      "Epoch:  94%|█████████▍| 94/100 [1:43:21<06:34, 65.73s/it]\u001b[A\u001b[A\u001b[A\u001b[A"
     ]
    },
    {
     "name": "stdout",
     "output_type": "stream",
     "text": [
      "global_step 34000, lr = -0.000215\n"
     ]
    },
    {
     "name": "stderr",
     "output_type": "stream",
     "text": [
      "06/09/2019 11:53:54 - INFO - run_child_finetuning -   Epoch 95\n",
      "06/09/2019 11:53:54 - INFO - run_child_finetuning -   Evaluating on train set...\n",
      "06/09/2019 11:54:21 - INFO - run_child_finetuning -   ***** Eval results *****\n",
      "06/09/2019 11:54:21 - INFO - run_child_finetuning -     eval_accuracy = 0.5769965277777778\n",
      "06/09/2019 11:54:21 - INFO - run_child_finetuning -     eval_loss = 0.8847115721967486\n",
      "06/09/2019 11:54:21 - INFO - run_child_finetuning -   Evaluating on valid set...\n",
      "06/09/2019 11:54:49 - INFO - run_child_finetuning -   ***** Eval results *****\n",
      "06/09/2019 11:54:49 - INFO - run_child_finetuning -     eval_accuracy = 0.5650173611111111\n",
      "06/09/2019 11:54:49 - INFO - run_child_finetuning -     eval_loss = 0.8932965106434292\n",
      "\n",
      "\n",
      "\n",
      "\n",
      "Epoch:  95%|█████████▌| 95/100 [1:44:27<05:29, 65.95s/it]\u001b[A\u001b[A\u001b[A\u001b[A06/09/2019 11:54:59 - INFO - run_child_finetuning -   Epoch 96\n",
      "06/09/2019 11:54:59 - INFO - run_child_finetuning -   Evaluating on train set...\n",
      "06/09/2019 11:55:27 - INFO - run_child_finetuning -   ***** Eval results *****\n",
      "06/09/2019 11:55:27 - INFO - run_child_finetuning -     eval_accuracy = 0.5789930555555556\n",
      "06/09/2019 11:55:27 - INFO - run_child_finetuning -     eval_loss = 0.8607717480924394\n",
      "06/09/2019 11:55:27 - INFO - run_child_finetuning -   Evaluating on valid set...\n",
      "06/09/2019 11:55:54 - INFO - run_child_finetuning -   ***** Eval results *****\n",
      "06/09/2019 11:55:54 - INFO - run_child_finetuning -     eval_accuracy = 0.5701388888888889\n",
      "06/09/2019 11:55:54 - INFO - run_child_finetuning -     eval_loss = 0.8688309980763329\n",
      "\n",
      "\n",
      "\n",
      "\n",
      "Epoch:  96%|█████████▌| 96/100 [1:45:32<04:22, 65.74s/it]\u001b[A\u001b[A\u001b[A\u001b[A06/09/2019 11:56:05 - INFO - run_child_finetuning -   Epoch 97\n",
      "06/09/2019 11:56:05 - INFO - run_child_finetuning -   Evaluating on train set...\n",
      "06/09/2019 11:56:33 - INFO - run_child_finetuning -   ***** Eval results *****\n",
      "06/09/2019 11:56:33 - INFO - run_child_finetuning -     eval_accuracy = 0.6397569444444444\n",
      "06/09/2019 11:56:33 - INFO - run_child_finetuning -     eval_loss = 0.7840271459685432\n",
      "06/09/2019 11:56:33 - INFO - run_child_finetuning -   Evaluating on valid set...\n",
      "06/09/2019 11:57:00 - INFO - run_child_finetuning -   ***** Eval results *****\n",
      "06/09/2019 11:57:00 - INFO - run_child_finetuning -     eval_accuracy = 0.6365451388888889\n",
      "06/09/2019 11:57:00 - INFO - run_child_finetuning -     eval_loss = 0.7873119976785448\n",
      "\n",
      "\n",
      "\n",
      "\n",
      "Epoch:  97%|█████████▋| 97/100 [1:46:38<03:17, 65.81s/it]\u001b[A\u001b[A\u001b[A\u001b[A"
     ]
    },
    {
     "name": "stdout",
     "output_type": "stream",
     "text": [
      "global_step 35000, lr = -0.000224\n"
     ]
    },
    {
     "name": "stderr",
     "output_type": "stream",
     "text": [
      "06/09/2019 11:57:11 - INFO - run_child_finetuning -   Epoch 98\n",
      "06/09/2019 11:57:11 - INFO - run_child_finetuning -   Evaluating on train set...\n",
      "06/09/2019 11:57:38 - INFO - run_child_finetuning -   ***** Eval results *****\n",
      "06/09/2019 11:57:38 - INFO - run_child_finetuning -     eval_accuracy = 0.6711805555555556\n",
      "06/09/2019 11:57:38 - INFO - run_child_finetuning -     eval_loss = 0.7093107594384087\n",
      "06/09/2019 11:57:38 - INFO - run_child_finetuning -   Evaluating on valid set...\n",
      "06/09/2019 11:58:06 - INFO - run_child_finetuning -   ***** Eval results *****\n",
      "06/09/2019 11:58:06 - INFO - run_child_finetuning -     eval_accuracy = 0.6711805555555556\n",
      "06/09/2019 11:58:06 - INFO - run_child_finetuning -     eval_loss = 0.7124807761775123\n",
      "\n",
      "\n",
      "\n",
      "\n",
      "Epoch:  98%|█████████▊| 98/100 [1:47:44<02:11, 65.84s/it]\u001b[A\u001b[A\u001b[A\u001b[A06/09/2019 11:58:17 - INFO - run_child_finetuning -   Epoch 99\n",
      "06/09/2019 11:58:17 - INFO - run_child_finetuning -   Evaluating on train set...\n",
      "06/09/2019 11:58:44 - INFO - run_child_finetuning -   ***** Eval results *****\n",
      "06/09/2019 11:58:44 - INFO - run_child_finetuning -     eval_accuracy = 0.7196180555555556\n",
      "06/09/2019 11:58:44 - INFO - run_child_finetuning -     eval_loss = 0.6273805638154347\n",
      "06/09/2019 11:58:44 - INFO - run_child_finetuning -   Evaluating on valid set...\n",
      "06/09/2019 11:59:12 - INFO - run_child_finetuning -   ***** Eval results *****\n",
      "06/09/2019 11:59:12 - INFO - run_child_finetuning -     eval_accuracy = 0.7190972222222223\n",
      "06/09/2019 11:59:12 - INFO - run_child_finetuning -     eval_loss = 0.630940580368042\n",
      "\n",
      "\n",
      "\n",
      "\n",
      "Epoch:  99%|█████████▉| 99/100 [1:48:50<01:05, 65.88s/it]\u001b[A\u001b[A\u001b[A\u001b[A06/09/2019 11:59:23 - INFO - run_child_finetuning -   Epoch 100\n",
      "06/09/2019 11:59:23 - INFO - run_child_finetuning -   Evaluating on train set...\n",
      "06/09/2019 11:59:50 - INFO - run_child_finetuning -   ***** Eval results *****\n",
      "06/09/2019 11:59:50 - INFO - run_child_finetuning -     eval_accuracy = 0.7444444444444445\n",
      "06/09/2019 11:59:50 - INFO - run_child_finetuning -     eval_loss = 0.545815435383055\n",
      "06/09/2019 11:59:50 - INFO - run_child_finetuning -   Evaluating on valid set...\n",
      "06/09/2019 12:00:18 - INFO - run_child_finetuning -   ***** Eval results *****\n",
      "06/09/2019 12:00:18 - INFO - run_child_finetuning -     eval_accuracy = 0.7447916666666666\n",
      "06/09/2019 12:00:18 - INFO - run_child_finetuning -     eval_loss = 0.5425901783837213\n",
      "\n",
      "\n",
      "\n",
      "\n",
      "Epoch: 100%|██████████| 100/100 [1:49:57<00:00, 65.99s/it]\u001b[A\u001b[A\u001b[A\u001b[A"
     ]
    }
   ],
   "source": [
    "# train_sampler = RandomSampler(train_dataset)\n",
    "# train_dataloader = DataLoader(train_dataset, sampler=train_sampler, batch_size=args.train_batch_size)\n",
    "# eval_sampler = SequentialSampler(eval_dataset)\n",
    "# eval_dataloader = DataLoader(eval_dataset, sampler=eval_sampler, batch_size=args.eval_batch_size)\n",
    "\n",
    "logger.info(\"Epoch 0\")\n",
    "logger.info(\"Evaluating on train set...\")\n",
    "validate(model, train_dataset, device)\n",
    "logger.info(\"Evaluating on valid set...\")\n",
    "validate(model, eval_dataset, device)\n",
    "\n",
    "global_step = 0\n",
    "for epoch in trange(int(args.num_train_epochs), desc=\"Epoch\"):\n",
    "    _ = model.train()\n",
    "    tr_loss = 0\n",
    "    nb_tr_examples, nb_tr_steps = 0, 0\n",
    "#     for step, batch in enumerate(tqdm(train_dataloader, desc=\"Iteration\")):\n",
    "    for step, batch_idx in enumerate(get_batch_index(len(train_dataset), args.train_batch_size, randomized=True)):\n",
    "        batch = tuple(t[batch_idx] for t in train_dataset.tensors)\n",
    "        batch = tuple(t.to(device) for t in batch)\n",
    "        input_ids, input_mask, segment_ids, lm_label_ids, is_next = batch\n",
    "        loss = model(input_ids, segment_ids, input_mask, lm_label_ids)\n",
    "        if n_gpu > 1:\n",
    "            loss = loss.mean() # mean() to average on multi-gpu.\n",
    "        if args.gradient_accumulation_steps > 1:\n",
    "            loss = loss / args.gradient_accumulation_steps\n",
    "        loss.backward()\n",
    "        tr_loss += loss.item()\n",
    "        nb_tr_examples += input_ids.size(0)\n",
    "        nb_tr_steps += 1\n",
    "        if (step + 1) % args.gradient_accumulation_steps == 0:\n",
    "            # modify learning rate with special warm up BERT uses\n",
    "            lr_this_step = args.learning_rate * warmup_linear(global_step/num_train_steps, args.warmup_proportion)\n",
    "            if global_step % 1000 == 0:\n",
    "                print('global_step %d, lr = %f' % (global_step, lr_this_step))\n",
    "            for param_group in optimizer.param_groups:\n",
    "                param_group['lr'] = lr_this_step\n",
    "            optimizer.step()\n",
    "            optimizer.zero_grad()\n",
    "            global_step += 1\n",
    "\n",
    "    if args.do_eval:\n",
    "        logger.info(\"Epoch %d\" % (epoch + 1))\n",
    "        logger.info(\"Evaluating on train set...\")\n",
    "        validate(model, train_dataset, device)\n",
    "        logger.info(\"Evaluating on valid set...\")\n",
    "        validate(model, eval_dataset, device)"
   ]
  }
 ],
 "metadata": {
  "kernelspec": {
   "display_name": "Python 3",
   "language": "python",
   "name": "python3"
  },
  "language_info": {
   "codemirror_mode": {
    "name": "ipython",
    "version": 3
   },
   "file_extension": ".py",
   "mimetype": "text/x-python",
   "name": "python",
   "nbconvert_exporter": "python",
   "pygments_lexer": "ipython3",
   "version": "3.6.5"
  }
 },
 "nbformat": 4,
 "nbformat_minor": 2
}
