{
 "cells": [
  {
   "cell_type": "code",
   "execution_count": null,
   "metadata": {},
   "outputs": [],
   "source": [
    "from django.shortcuts import render\n",
    "# -*- coding: utf-8 -*-\n",
    "from django.shortcuts import render\n",
    "from django.http import HttpResponse\n",
    "import json\n",
    "\n",
    "tokens = []\n",
    "suggestions = {}\n",
    "def home(request):\n",
    "    return render(request, 'home.html')\n",
    "\n",
    "\n",
    "def analyse(request):\n",
    "    global tokens\n",
    "    global suggestions\n",
    "    text = \"\"\n",
    "    text = request.GET['text']\n",
    "    tokens = text.split()\n",
    "    tokens = ['[CLS]', 'it', 'was', 'monday', 'morning', ',', 'and', 'the', 'writeing', 'class', 'had', 'just', 'begun', '.', 'we', 'were', 'ti', '##ring', '.', 'everyone', 'was', 'silent', ',', 'wait', 'to', 'see', 'who', 'would', 'be', 'called', 'upon', 'to', 'read', 'his', 'and', 'her', 'paragraph', 'aloud', '.', 'some', 'of', 'us', 'were', 'confidont', 'and', 'eagerly', 'take', 'part', 'in', 'the', 'class', 'activity', ',', 'others', 'were', 'nervous', 'and', 'anxious', '.', 'i', 'had', 'done', 'myself', 'homework', 'but', 'i', 'was', 'shy', '.', 'i', 'was', 'afraid', 'that', 'to', 'speak', 'in', 'front', 'of', 'a', 'larger', 'group', 'of', 'people', '.', 'at', 'that', 'moment', ',', 'i', 'remembered', 'that', 'my', 'father', 'once', 'said', ',', '\"', 'the', 'classroom', 'is', 'a', 'place', 'for', 'learning', 'and', 'that', 'include', 'leaning', 'from', 'textbooks', ',', 'and', 'mistake', 'as', 'well', '.', '\"', 'immediate', ',', 'i', 'raised', 'my', 'hand', '.', '[SEP]']\n",
    "    suggestions = {8: 'writing', 43: 'confident', 23: 'waiting', 34: 'or', 45: 'would', 46: 'taking', 51: 'activities', 62: 'my', 72: '去掉 that', 105: 'to', 106: 'includes', 107: 'learning', 108: 'on', 112: 'mistakes', 117: 'immediately'}\n",
    "    return HttpResponse(json.dumps({\"tokens\":tokens,\"suggestions\":suggestions}))\n",
    "\n",
    "def modify(request):\n",
    "    global tokens\n",
    "    global suggestions\n",
    "    index = request.GET['index']\n",
    "    tokens[int(index)] = suggestions[int(index)]\n",
    "    print(\"检查点\")\n",
    "    del suggestions[int(index)]\n",
    "    print(suggestions)\n",
    "    return HttpResponse(json.dumps({\"tokens\":tokens,\"suggestions\":suggestions}))\n"
   ]
  }
 ],
 "metadata": {
  "kernelspec": {
   "display_name": "Python 3",
   "language": "python",
   "name": "python3"
  },
  "language_info": {
   "codemirror_mode": {
    "name": "ipython",
    "version": 3
   },
   "file_extension": ".py",
   "mimetype": "text/x-python",
   "name": "python",
   "nbconvert_exporter": "python",
   "pygments_lexer": "ipython3",
   "version": "3.6.5"
  }
 },
 "nbformat": 4,
 "nbformat_minor": 2
}
